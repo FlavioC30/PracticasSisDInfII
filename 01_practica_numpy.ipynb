{
 "cells": [
  {
   "cell_type": "markdown",
   "metadata": {},
   "source": [
    "# Tarea 2 - Numpy\n",
    "\n",
    "> lea detalladamente el ejercicio antes de responder los ejercicios"
   ]
  },
  {
   "cell_type": "markdown",
   "metadata": {},
   "source": [
    "1. Crear los siguientes arregos de numpy\n",
    "> * Crear un array con 10 elementos \n",
    "> * Crear un array con 5 numeros decimales\n",
    "> * crear un array de 20 elementos con solo  numeros pares"
   ]
  },
  {
   "cell_type": "code",
   "execution_count": 10,
   "metadata": {},
   "outputs": [
    {
     "name": "stdout",
     "output_type": "stream",
     "text": [
      "[0.87346907 0.60517732 0.4823284  0.13026958 0.91170769 0.11338843\n",
      " 0.57321282 0.59186655 0.7530285  0.98035248]\n",
      "[0.41418413 0.99989187 0.26226393 0.47491329 0.29617212]\n",
      "[ 0  2  4  6  8 10 12 14 16 18 20 22 24 26 28 30 32 34 36 38]\n"
     ]
    }
   ],
   "source": [
    "#import numpy as np\n",
    "#crear un array con 10 elementos \n",
    "\n",
    "array_aleatorio = np.random.rand(10)\n",
    "print(array_aleatorio)\n",
    "\n",
    "#crear un array con 5 numeros decimales\n",
    "\n",
    "array_decimal = np.random.rand(5)\n",
    "print(array_decimal)\n",
    "\n",
    "#crear un array de 20 elementos con solo numeros pares\n",
    "\n",
    "array_pares =np.arange(0, 40 ,2)\n",
    "print(array_pares)"
   ]
  },
  {
   "cell_type": "markdown",
   "metadata": {},
   "source": [
    "2. Cual es la forma correcta de crear un Array\n",
    "> * A) np.createArray([1,2,3,4,5])\n",
    "> * B) np.object([1,2,3,4,5])\n",
    "> * C) np.array([1,2,3,4,5])"
   ]
  },
  {
   "cell_type": "code",
   "execution_count": 11,
   "metadata": {},
   "outputs": [
    {
     "data": {
      "text/plain": [
       "array([1, 2, 3, 4, 5])"
      ]
     },
     "execution_count": 11,
     "metadata": {},
     "output_type": "execute_result"
    }
   ],
   "source": [
    "# C\n",
    "np.array([1,2,3,4,5])"
   ]
  },
  {
   "cell_type": "markdown",
   "metadata": {},
   "source": [
    "3. Cual es la forma correcta de saber el numero de dimensiones de un array\n",
    "> * arr.ndim()\n",
    "> * arr.dim()   \n",
    "> * arr.ndim\n",
    "> * arr.dim"
   ]
  },
  {
   "cell_type": "code",
   "execution_count": null,
   "metadata": {},
   "outputs": [],
   "source": [
    "arr.ndim"
   ]
  },
  {
   "cell_type": "markdown",
   "metadata": {},
   "source": [
    "4. Cual es la sintaxis correcta para imprimir el primer item de un array\n",
    "> * print(arr,1)\n",
    "> * print(arr[1])\n",
    "> * print(arr[0]) "
   ]
  },
  {
   "cell_type": "code",
   "execution_count": null,
   "metadata": {},
   "outputs": [],
   "source": [
    "print(arr[0])"
   ]
  },
  {
   "cell_type": "markdown",
   "metadata": {},
   "source": [
    "5. Cual es la sintaxis correcta para imprimir el numero 8 del vector\n",
    "arr = np.array([[1,2,3,4,5], [6,7,8,9,10]])\n",
    "> * print(arr(1,2))\n",
    "> * print(arr(7,2))\n",
    "> * print(arr(3,0))"
   ]
  },
  {
   "cell_type": "code",
   "execution_count": null,
   "metadata": {},
   "outputs": [],
   "source": [
    "print(arr(1,2))"
   ]
  },
  {
   "cell_type": "markdown",
   "metadata": {},
   "source": [
    "6. Cual es la sintaxis correcta para imprimir [3, 4, 5] del array \n",
    "arr = np.array([1,2,3,4,5,6,7])\n",
    "> * print(arr[3:6])\n",
    "> * print(arr[2:5])\n",
    "> * print(arr[2:6])\n",
    "> * print(arr[2:4])"
   ]
  },
  {
   "cell_type": "code",
   "execution_count": null,
   "metadata": {},
   "outputs": [],
   "source": [
    "print(arr[2:5])"
   ]
  },
  {
   "cell_type": "markdown",
   "metadata": {},
   "source": [
    "7. Crear un vector con valores dentro del rango 10 a 49"
   ]
  },
  {
   "cell_type": "code",
   "execution_count": 12,
   "metadata": {},
   "outputs": [
    {
     "name": "stdout",
     "output_type": "stream",
     "text": [
      "[10 11 12 13 14 15 16 17 18 19 20 21 22 23 24 25 26 27 28 29 30 31 32 33\n",
      " 34 35 36 37 38 39 40 41 42 43 44 45 46 47 48 49]\n"
     ]
    }
   ],
   "source": [
    "#7:Flavio Cesar Flores\n",
    "arr = np.arange(10, 50)\n",
    "print(arr)\n"
   ]
  },
  {
   "cell_type": "markdown",
   "metadata": {},
   "source": [
    "8. Invertir el vector creado en la pregunta anterior"
   ]
  },
  {
   "cell_type": "code",
   "execution_count": 13,
   "metadata": {},
   "outputs": [
    {
     "name": "stdout",
     "output_type": "stream",
     "text": [
      "[49 48 47 46 45 44 43 42 41 40 39 38 37 36 35 34 33 32 31 30 29 28 27 26\n",
      " 25 24 23 22 21 20 19 18 17 16 15 14 13 12 11 10]\n"
     ]
    }
   ],
   "source": [
    "#8: Flavio Cesar Flores\n",
    "arr = np.arange(10, 50)\n",
    "arr_invertido = arr[::-1]\n",
    "print(arr_invertido)\n"
   ]
  },
  {
   "cell_type": "markdown",
   "metadata": {},
   "source": [
    "\n",
    "9. Crear una matriz 3x3 con valores de 0 a 8"
   ]
  },
  {
   "cell_type": "code",
   "execution_count": 14,
   "metadata": {},
   "outputs": [
    {
     "ename": "NameError",
     "evalue": "name 'matriz' is not defined",
     "output_type": "error",
     "traceback": [
      "\u001b[0;31m---------------------------------------------------------------------------\u001b[0m",
      "\u001b[0;31mNameError\u001b[0m                                 Traceback (most recent call last)",
      "Cell \u001b[0;32mIn[14], line 3\u001b[0m\n\u001b[1;32m      1\u001b[0m \u001b[38;5;66;03m#\u001b[39;00m\n\u001b[1;32m      2\u001b[0m matrix \u001b[38;5;241m=\u001b[39m np\u001b[38;5;241m.\u001b[39marange(\u001b[38;5;241m9\u001b[39m)\u001b[38;5;241m.\u001b[39mreshape(\u001b[38;5;241m3\u001b[39m, \u001b[38;5;241m3\u001b[39m)\n\u001b[0;32m----> 3\u001b[0m \u001b[38;5;28mprint\u001b[39m(\u001b[43mmatriz\u001b[49m)\n",
      "\u001b[0;31mNameError\u001b[0m: name 'matriz' is not defined"
     ]
    }
   ],
   "source": [
    "#9: Flavio Cesar Flores\n",
    "matrix = np.arange(9).reshape(3, 3)\n",
    "print(matrix)\n"
   ]
  },
  {
   "cell_type": "markdown",
   "metadata": {},
   "source": [
    "10. Crear una matriz identidad de 6x6"
   ]
  },
  {
   "cell_type": "code",
   "execution_count": null,
   "metadata": {},
   "outputs": [],
   "source": [
    "#10: Flavio Cesar Flores\n",
    "matrix_identidad = np.eye(6)\n",
    "print(matrix_identidad)\n"
   ]
  },
  {
   "cell_type": "markdown",
   "metadata": {},
   "source": [
    "11. Encontrar los valores que no son ceros del arreglo [1,2,4,2,4,0,1,0,0,0,12,4,5,6,7,0]"
   ]
  },
  {
   "cell_type": "code",
   "execution_count": null,
   "metadata": {},
   "outputs": [],
   "source": []
  },
  {
   "cell_type": "markdown",
   "metadata": {},
   "source": [
    "12. Crear una matriz con valores al azar con forma 3x3x3"
   ]
  },
  {
   "cell_type": "code",
   "execution_count": null,
   "metadata": {},
   "outputs": [],
   "source": []
  },
  {
   "cell_type": "markdown",
   "metadata": {},
   "source": [
    "13. Crear una matriz de 10x10 con 1's en los bordes y cualquier valor en el interior(investigar)"
   ]
  },
  {
   "cell_type": "code",
   "execution_count": null,
   "metadata": {},
   "outputs": [],
   "source": []
  },
  {
   "cell_type": "markdown",
   "metadata": {},
   "source": [
    "14. Crear una matriz de 5x5 con valores en los renglones que vayan de 0 a 4(investigar)"
   ]
  },
  {
   "cell_type": "code",
   "execution_count": null,
   "metadata": {},
   "outputs": [],
   "source": []
  },
  {
   "cell_type": "markdown",
   "metadata": {},
   "source": [
    "15. Crear dos arreglos al azar(valores aleatorios) A y B, verificar si son iguales"
   ]
  },
  {
   "cell_type": "code",
   "execution_count": null,
   "metadata": {},
   "outputs": [],
   "source": []
  },
  {
   "cell_type": "markdown",
   "metadata": {},
   "source": [
    "16. Crear una matrices 10x10 mostrar las siguiente:\n",
    "> * mostrar las filas 5 en adelante\n",
    "> * mostrar solo las tres primeras filas\n",
    "> * mostrar solo las filas 3 a la 7 "
   ]
  },
  {
   "cell_type": "markdown",
   "metadata": {},
   "source": [
    "17. Crear una matrices 10x10 con valores aleatorios enteros y calcular la suma de valores siguiente:\n",
    "> * Calcular la suma de todos valores que sean mayores a 25\n",
    "> * Calcular la suma de los valores por filas que sean mayores a 10 y menores a 25\n",
    "> * Calcular la suma de los valores por columnas que sean mayores a 50 y menores a 75"
   ]
  },
  {
   "cell_type": "markdown",
   "metadata": {},
   "source": []
  }
 ],
 "metadata": {
  "kernelspec": {
   "display_name": "Python 3",
   "language": "python",
   "name": "python3"
  },
  "language_info": {
   "codemirror_mode": {
    "name": "ipython",
    "version": 3
   },
   "file_extension": ".py",
   "mimetype": "text/x-python",
   "name": "python",
   "nbconvert_exporter": "python",
   "pygments_lexer": "ipython3",
   "version": "3.10.13"
  }
 },
 "nbformat": 4,
 "nbformat_minor": 2
}
