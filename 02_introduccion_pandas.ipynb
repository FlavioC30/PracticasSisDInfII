{
 "cells": [
  {
   "cell_type": "markdown",
   "metadata": {},
   "source": [
    "# 02 PANDAS\n",
    "\n",
    "¿Por qué Pandas?\n",
    "Pandas está enfocada a la manipulación y análisis de datos.\n",
    "\n",
    "* Al estar construido sobre NumPy es veloz.\n",
    "* Requiere poco código para manipular los datos.\n",
    "* Soporta múltiples formatos de archivos.\n",
    "* Ordena los datos en una alienación inteligente.\n",
    "* Se pueden manejar grandes cantidades de datos, hacer analítica y generar dashboards.\n",
    "\n",
    "* Escrita por Wes McKinney\n",
    "* Creada en el 2008.\n",
    "* Construida sobre NumPy.\n",
    "* 100% Open Source.\n",
    "* También se encuentra en Github."
   ]
  },
  {
   "cell_type": "markdown",
   "metadata": {},
   "source": [
    "### Importar pandas\n",
    "\n",
    "> _import pandas as pd_\n",
    "\n",
    "> pd.\\_\\_version\\_\\_"
   ]
  },
  {
   "cell_type": "code",
   "execution_count": 7,
   "metadata": {},
   "outputs": [],
   "source": [
    "import pandas as pd\n"
   ]
  },
  {
   "cell_type": "markdown",
   "metadata": {},
   "source": [
    "### Series\n",
    "\n",
    "Pandas Series Es muy parecido a un array de una dimensión (o vector) de NumPy.\n",
    "\n",
    "* Arreglo unidimensional indexado\n",
    "* Búsqueda por índice\n",
    "* Slicing\n",
    "* Operaciones aritméticas\n",
    "* Distintos tipos de datos"
   ]
  },
  {
   "cell_type": "markdown",
   "metadata": {},
   "source": [
    "definimos una lista con índices específicos\n",
    "\n",
    "> pd.Series(['Pedro','Joana','Angel','Paco'], index=[1,7,10,30])\n"
   ]
  },
  {
   "cell_type": "code",
   "execution_count": 3,
   "metadata": {},
   "outputs": [
    {
     "data": {
      "text/plain": [
       "85    Argentina\n",
       "75      Uruguay\n",
       "80       Brasil\n",
       "65     Colombia\n",
       "60      Ecuador\n",
       "50         Peru\n",
       "40        Chile\n",
       "25      Bolivia\n",
       "dtype: object"
      ]
     },
     "execution_count": 3,
     "metadata": {},
     "output_type": "execute_result"
    }
   ],
   "source": [
    "pd.Series(['Argentina','Uruguay','Brasil','Colombia','Ecuador','Peru','Chile','Bolivia'], \n",
    "          index=[85,75,80,65,60,50,40,25])\n"
   ]
  },
  {
   "cell_type": "markdown",
   "metadata": {},
   "source": [
    "guardamos en una variable la serie\n",
    "> names = pd.Series(['Pedro','Joana','Angel','Paco'], index=[1,7,10,30])\n",
    "\n",
    "> names"
   ]
  },
  {
   "cell_type": "code",
   "execution_count": null,
   "metadata": {},
   "outputs": [],
   "source": [
    "eurocopa= pd.Series(['Francia','Inglaterra','Portugal','España','Alemania','Italia','Paises_bajos'], \n",
    "eurocopa"
   ]
  },
  {
   "cell_type": "markdown",
   "metadata": {},
   "source": [
    "También si eliminamos la propiedad del index \n",
    "\n",
    "Nos generá un index por defaul comenzando en 0\n",
    "\n",
    "names = pd.Series(['Pedro','Joana','Angel','Paco'])\n",
    "\n",
    "names"
   ]
  },
  {
   "cell_type": "code",
   "execution_count": null,
   "metadata": {},
   "outputs": [],
   "source": []
  },
  {
   "cell_type": "markdown",
   "metadata": {},
   "source": [
    "Otra manera de definir una Series Pandas es:\n",
    "\n",
    "> dict = {1:'Pedro',10:'Manuel',4:'Pancho',80:'Martin'}\n",
    "\n",
    "> pd.Series(dict)"
   ]
  },
  {
   "cell_type": "code",
   "execution_count": 8,
   "metadata": {},
   "outputs": [
    {
     "ename": "AttributeError",
     "evalue": "module 'pandas' has no attribute 'series'",
     "output_type": "error",
     "traceback": [
      "\u001b[0;31m---------------------------------------------------------------------------\u001b[0m",
      "\u001b[0;31mAttributeError\u001b[0m                            Traceback (most recent call last)",
      "Cell \u001b[0;32mIn[8], line 14\u001b[0m\n\u001b[1;32m      1\u001b[0m jugadores \u001b[38;5;241m=\u001b[39m {\n\u001b[1;32m      2\u001b[0m     \u001b[38;5;241m10\u001b[39m:\u001b[38;5;124m'\u001b[39m\u001b[38;5;124mmessi\u001b[39m\u001b[38;5;124m'\u001b[39m,\n\u001b[1;32m      3\u001b[0m     \u001b[38;5;241m1\u001b[39m:\u001b[38;5;124m'\u001b[39m\u001b[38;5;124mdibbu_martinez\u001b[39m\u001b[38;5;124m'\u001b[39m,\n\u001b[0;32m   (...)\u001b[0m\n\u001b[1;32m     12\u001b[0m     \u001b[38;5;241m11\u001b[39m:\u001b[38;5;124m'\u001b[39m\u001b[38;5;124mdimaria\u001b[39m\u001b[38;5;124m'\u001b[39m\n\u001b[1;32m     13\u001b[0m }\n\u001b[0;32m---> 14\u001b[0m jugadores_copa\u001b[38;5;241m=\u001b[39m\u001b[43mpd\u001b[49m\u001b[38;5;241;43m.\u001b[39;49m\u001b[43mseries\u001b[49m(jugadores)\n\u001b[1;32m     15\u001b[0m jugadores_copa\n",
      "\u001b[0;31mAttributeError\u001b[0m: module 'pandas' has no attribute 'series'"
     ]
    }
   ],
   "source": [
    "jugadores = {\n",
    "    10:'messi',\n",
    "    1:'dibbu_martinez',\n",
    "    2:'araujo',\n",
    "    3:'romero',\n",
    "    4:'colombiano',\n",
    "    5:'valverde',\n",
    "    6:'mc calister',\n",
    "    7:'vini jr',\n",
    "    8:'julian alvarez',\n",
    "    9:'darwin nuñez',\n",
    "    11:'dimaria'\n",
    "}\n",
    "jugadores_copa=pd.series(jugadores)\n",
    "jugadores_copa"
   ]
  },
  {
   "cell_type": "markdown",
   "metadata": {},
   "source": [
    "\n",
    "Como en Numpy podemos también acceder de forma indexada.\n",
    "\n",
    "> names[1]\n"
   ]
  },
  {
   "cell_type": "code",
   "execution_count": null,
   "metadata": {},
   "outputs": [],
   "source": [
    "jugadores_copa[1]"
   ]
  },
  {
   "cell_type": "markdown",
   "metadata": {},
   "source": [
    "También podemos hacer Slicing\n",
    "\n",
    "> names[0:3]\n"
   ]
  },
  {
   "cell_type": "code",
   "execution_count": null,
   "metadata": {},
   "outputs": [],
   "source": [
    "jugadores_copa[2:5]\n",
    "jugadores_copa[2:]"
   ]
  },
  {
   "cell_type": "markdown",
   "metadata": {},
   "source": [
    "---"
   ]
  },
  {
   "cell_type": "markdown",
   "metadata": {},
   "source": [
    "### Pandas DataFrame\n",
    "\n",
    "Muy parecido a las estructuras matriciales trabajadas con NumPy.\n",
    "\n",
    "* Estructura principal\n",
    "* Arreglo de dos dimensiones\n",
    "* Búsqueda por índice (columnas o filas)\n",
    "* Slicing\n",
    "* Operaciones aritméticas\n",
    "* Distintos tipos de datos\n",
    "* Tamaño variable"
   ]
  },
  {
   "cell_type": "markdown",
   "metadata": {},
   "source": [
    "Crear un dataframe"
   ]
  },
  {
   "cell_type": "markdown",
   "metadata": {},
   "source": [
    "\n",
    "Podemos hacer un diccionario que contenga listas.\n",
    "\n",
    "> dict = {'Jugador':['Alex','Katy','Ana','Jorch'], <br>\n",
    "         'Altura':[182.0,156.23,162.0,188.0], <br>\n",
    "         'Puntos':[100,200,50,300]}\\n"
   ]
  },
  {
   "cell_type": "code",
   "execution_count": 12,
   "metadata": {},
   "outputs": [],
   "source": [
    "copa_america={\n",
    "    'paises':['Argentina','Uruguay','Brasil'],\n",
    "    'Jugadores':['messi','suarez','vini jr'],\n",
    "    'titulo':[2021,2021,2019]\n",
    "}"
   ]
  },
  {
   "cell_type": "markdown",
   "metadata": {},
   "source": [
    "Guardamos en una variable, Agregamos nuestra propia indexación.\n",
    "\n",
    "> players = pd.DataFrame(dict, index=[1,2,3,4])\n",
    "\n",
    "> players\n"
   ]
  },
  {
   "cell_type": "code",
   "execution_count": 11,
   "metadata": {},
   "outputs": [
    {
     "data": {
      "text/html": [
       "<div>\n",
       "<style scoped>\n",
       "    .dataframe tbody tr th:only-of-type {\n",
       "        vertical-align: middle;\n",
       "    }\n",
       "\n",
       "    .dataframe tbody tr th {\n",
       "        vertical-align: top;\n",
       "    }\n",
       "\n",
       "    .dataframe thead th {\n",
       "        text-align: right;\n",
       "    }\n",
       "</style>\n",
       "<table border=\"1\" class=\"dataframe\">\n",
       "  <thead>\n",
       "    <tr style=\"text-align: right;\">\n",
       "      <th></th>\n",
       "      <th>paises</th>\n",
       "      <th>Jugadores</th>\n",
       "      <th>titulo</th>\n",
       "    </tr>\n",
       "  </thead>\n",
       "  <tbody>\n",
       "    <tr>\n",
       "      <th>1</th>\n",
       "      <td>Argentina</td>\n",
       "      <td>messi</td>\n",
       "      <td>2021</td>\n",
       "    </tr>\n",
       "    <tr>\n",
       "      <th>2</th>\n",
       "      <td>Uruguay</td>\n",
       "      <td>suarez</td>\n",
       "      <td>2021</td>\n",
       "    </tr>\n",
       "    <tr>\n",
       "      <th>3</th>\n",
       "      <td>Brasil</td>\n",
       "      <td>vini jr</td>\n",
       "      <td>2019</td>\n",
       "    </tr>\n",
       "  </tbody>\n",
       "</table>\n",
       "</div>"
      ],
      "text/plain": [
       "      paises Jugadores  titulo\n",
       "1  Argentina     messi    2021\n",
       "2    Uruguay    suarez    2021\n",
       "3     Brasil   vini jr    2019"
      ]
     },
     "execution_count": 11,
     "metadata": {},
     "output_type": "execute_result"
    }
   ],
   "source": [
    "df_copa_america=pd.DataFrame(copa_america, index=[1,2,3])\n",
    "df_copa_america"
   ]
  },
  {
   "cell_type": "markdown",
   "metadata": {},
   "source": [
    "Podemos visualizar sólo las columnas.\n",
    "\n",
    "> players.columns"
   ]
  },
  {
   "cell_type": "code",
   "execution_count": 14,
   "metadata": {},
   "outputs": [
    {
     "data": {
      "text/plain": [
       "Index(['paises', 'Jugadores', 'titulo'], dtype='object')"
      ]
     },
     "execution_count": 14,
     "metadata": {},
     "output_type": "execute_result"
    }
   ],
   "source": [
    "df_copa_america.columns"
   ]
  },
  {
   "cell_type": "markdown",
   "metadata": {},
   "source": [
    "Podemos visualizar los índices.\n",
    "\n",
    "> players.index"
   ]
  },
  {
   "cell_type": "code",
   "execution_count": 15,
   "metadata": {},
   "outputs": [
    {
     "data": {
      "text/plain": [
       "Index([1, 2, 3], dtype='int64')"
      ]
     },
     "execution_count": 15,
     "metadata": {},
     "output_type": "execute_result"
    }
   ],
   "source": [
    "df_copa_america.index"
   ]
  },
  {
   "cell_type": "markdown",
   "metadata": {},
   "source": [
    "---"
   ]
  },
  {
   "cell_type": "markdown",
   "metadata": {},
   "source": [
    "### Leer un arcivo csv\n",
    "_titulos = pd.read_csv('data/titles.csv' )_\n",
    "\n",
    "_titulos.head()_"
   ]
  },
  {
   "cell_type": "code",
   "execution_count": 20,
   "metadata": {},
   "outputs": [
    {
     "data": {
      "text/html": [
       "<div>\n",
       "<style scoped>\n",
       "    .dataframe tbody tr th:only-of-type {\n",
       "        vertical-align: middle;\n",
       "    }\n",
       "\n",
       "    .dataframe tbody tr th {\n",
       "        vertical-align: top;\n",
       "    }\n",
       "\n",
       "    .dataframe thead th {\n",
       "        text-align: right;\n",
       "    }\n",
       "</style>\n",
       "<table border=\"1\" class=\"dataframe\">\n",
       "  <thead>\n",
       "    <tr style=\"text-align: right;\">\n",
       "      <th></th>\n",
       "      <th>Name</th>\n",
       "      <th>Author</th>\n",
       "      <th>User Rating</th>\n",
       "      <th>Reviews</th>\n",
       "      <th>Price</th>\n",
       "      <th>Year</th>\n",
       "      <th>Genre</th>\n",
       "    </tr>\n",
       "  </thead>\n",
       "  <tbody>\n",
       "    <tr>\n",
       "      <th>0</th>\n",
       "      <td>10-Day Green Smoothie Cleanse</td>\n",
       "      <td>JJ Smith</td>\n",
       "      <td>4.7</td>\n",
       "      <td>17350</td>\n",
       "      <td>8</td>\n",
       "      <td>2016</td>\n",
       "      <td>Non Fiction</td>\n",
       "    </tr>\n",
       "    <tr>\n",
       "      <th>1</th>\n",
       "      <td>11/22/63: A Novel</td>\n",
       "      <td>Stephen King</td>\n",
       "      <td>4.6</td>\n",
       "      <td>2052</td>\n",
       "      <td>22</td>\n",
       "      <td>2011</td>\n",
       "      <td>Fiction</td>\n",
       "    </tr>\n",
       "    <tr>\n",
       "      <th>2</th>\n",
       "      <td>12 Rules for Life: An Antidote to Chaos</td>\n",
       "      <td>Jordan B. Peterson</td>\n",
       "      <td>4.7</td>\n",
       "      <td>18979</td>\n",
       "      <td>15</td>\n",
       "      <td>2018</td>\n",
       "      <td>Non Fiction</td>\n",
       "    </tr>\n",
       "    <tr>\n",
       "      <th>3</th>\n",
       "      <td>1984 (Signet Classics)</td>\n",
       "      <td>George Orwell</td>\n",
       "      <td>4.7</td>\n",
       "      <td>21424</td>\n",
       "      <td>6</td>\n",
       "      <td>2017</td>\n",
       "      <td>Fiction</td>\n",
       "    </tr>\n",
       "    <tr>\n",
       "      <th>4</th>\n",
       "      <td>5,000 Awesome Facts (About Everything!) (Natio...</td>\n",
       "      <td>National Geographic Kids</td>\n",
       "      <td>4.8</td>\n",
       "      <td>7665</td>\n",
       "      <td>12</td>\n",
       "      <td>2019</td>\n",
       "      <td>Non Fiction</td>\n",
       "    </tr>\n",
       "    <tr>\n",
       "      <th>5</th>\n",
       "      <td>A Dance with Dragons (A Song of Ice and Fire)</td>\n",
       "      <td>George R. R. Martin</td>\n",
       "      <td>4.4</td>\n",
       "      <td>12643</td>\n",
       "      <td>11</td>\n",
       "      <td>2011</td>\n",
       "      <td>Fiction</td>\n",
       "    </tr>\n",
       "    <tr>\n",
       "      <th>6</th>\n",
       "      <td>A Game of Thrones / A Clash of Kings / A Storm...</td>\n",
       "      <td>George R. R. Martin</td>\n",
       "      <td>4.7</td>\n",
       "      <td>19735</td>\n",
       "      <td>30</td>\n",
       "      <td>2014</td>\n",
       "      <td>Fiction</td>\n",
       "    </tr>\n",
       "    <tr>\n",
       "      <th>7</th>\n",
       "      <td>A Gentleman in Moscow: A Novel</td>\n",
       "      <td>Amor Towles</td>\n",
       "      <td>4.7</td>\n",
       "      <td>19699</td>\n",
       "      <td>15</td>\n",
       "      <td>2017</td>\n",
       "      <td>Fiction</td>\n",
       "    </tr>\n",
       "    <tr>\n",
       "      <th>8</th>\n",
       "      <td>A Higher Loyalty: Truth, Lies, and Leadership</td>\n",
       "      <td>James Comey</td>\n",
       "      <td>4.7</td>\n",
       "      <td>5983</td>\n",
       "      <td>3</td>\n",
       "      <td>2018</td>\n",
       "      <td>Non Fiction</td>\n",
       "    </tr>\n",
       "    <tr>\n",
       "      <th>9</th>\n",
       "      <td>A Man Called Ove: A Novel</td>\n",
       "      <td>Fredrik Backman</td>\n",
       "      <td>4.6</td>\n",
       "      <td>23848</td>\n",
       "      <td>8</td>\n",
       "      <td>2016</td>\n",
       "      <td>Fiction</td>\n",
       "    </tr>\n",
       "  </tbody>\n",
       "</table>\n",
       "</div>"
      ],
      "text/plain": [
       "                                                Name  \\\n",
       "0                      10-Day Green Smoothie Cleanse   \n",
       "1                                  11/22/63: A Novel   \n",
       "2            12 Rules for Life: An Antidote to Chaos   \n",
       "3                             1984 (Signet Classics)   \n",
       "4  5,000 Awesome Facts (About Everything!) (Natio...   \n",
       "5      A Dance with Dragons (A Song of Ice and Fire)   \n",
       "6  A Game of Thrones / A Clash of Kings / A Storm...   \n",
       "7                     A Gentleman in Moscow: A Novel   \n",
       "8      A Higher Loyalty: Truth, Lies, and Leadership   \n",
       "9                          A Man Called Ove: A Novel   \n",
       "\n",
       "                     Author  User Rating  Reviews  Price  Year        Genre  \n",
       "0                  JJ Smith          4.7    17350      8  2016  Non Fiction  \n",
       "1              Stephen King          4.6     2052     22  2011      Fiction  \n",
       "2        Jordan B. Peterson          4.7    18979     15  2018  Non Fiction  \n",
       "3             George Orwell          4.7    21424      6  2017      Fiction  \n",
       "4  National Geographic Kids          4.8     7665     12  2019  Non Fiction  \n",
       "5       George R. R. Martin          4.4    12643     11  2011      Fiction  \n",
       "6       George R. R. Martin          4.7    19735     30  2014      Fiction  \n",
       "7               Amor Towles          4.7    19699     15  2017      Fiction  \n",
       "8               James Comey          4.7     5983      3  2018  Non Fiction  \n",
       "9           Fredrik Backman          4.6    23848      8  2016      Fiction  "
      ]
     },
     "execution_count": 20,
     "metadata": {},
     "output_type": "execute_result"
    }
   ],
   "source": [
    "df_libros = pd.read_csv('data/data/books.csv')\n",
    "# mostrar los primeros 5 libros \n",
    "df_libros.head(10)\n"
   ]
  },
  {
   "cell_type": "markdown",
   "metadata": {},
   "source": [
    "_elenco = pd.read_csv('data/cast.csv', encoding='utf-8')_\n",
    "\n",
    "_elenco.head()_\n",
    "\n",
    "> titulos= pd.read_csv('data/titles.csv',encoding='utf-8')\n",
    "\n",
    "> titulos.head()"
   ]
  },
  {
   "cell_type": "code",
   "execution_count": null,
   "metadata": {},
   "outputs": [],
   "source": []
  },
  {
   "cell_type": "markdown",
   "metadata": {},
   "source": [
    "### Leer Hojas Excel\n",
    "\n",
    "> Pip install openpyxl\n",
    "\n",
    "> df = pd.read_excel('data/titles.xlsx') \n",
    "\n",
    "> print(df.head())"
   ]
  },
  {
   "cell_type": "code",
   "execution_count": 25,
   "metadata": {},
   "outputs": [
    {
     "data": {
      "text/html": [
       "<div>\n",
       "<style scoped>\n",
       "    .dataframe tbody tr th:only-of-type {\n",
       "        vertical-align: middle;\n",
       "    }\n",
       "\n",
       "    .dataframe tbody tr th {\n",
       "        vertical-align: top;\n",
       "    }\n",
       "\n",
       "    .dataframe thead th {\n",
       "        text-align: right;\n",
       "    }\n",
       "</style>\n",
       "<table border=\"1\" class=\"dataframe\">\n",
       "  <thead>\n",
       "    <tr style=\"text-align: right;\">\n",
       "      <th></th>\n",
       "      <th>title</th>\n",
       "      <th>year</th>\n",
       "      <th>Unnamed: 2</th>\n",
       "      <th>Unnamed: 3</th>\n",
       "    </tr>\n",
       "  </thead>\n",
       "  <tbody>\n",
       "    <tr>\n",
       "      <th>0</th>\n",
       "      <td>Mahler</td>\n",
       "      <td>1974</td>\n",
       "      <td>NaN</td>\n",
       "      <td>NaN</td>\n",
       "    </tr>\n",
       "    <tr>\n",
       "      <th>1</th>\n",
       "      <td>Ogon, voda i... mednye truby</td>\n",
       "      <td>1968</td>\n",
       "      <td>NaN</td>\n",
       "      <td>NaN</td>\n",
       "    </tr>\n",
       "    <tr>\n",
       "      <th>2</th>\n",
       "      <td>Ana Nojoom bent alasherah wamotalagah</td>\n",
       "      <td>2014</td>\n",
       "      <td>NaN</td>\n",
       "      <td>NaN</td>\n",
       "    </tr>\n",
       "    <tr>\n",
       "      <th>3</th>\n",
       "      <td>Malu de Bicicleta</td>\n",
       "      <td>2010</td>\n",
       "      <td>NaN</td>\n",
       "      <td>NaN</td>\n",
       "    </tr>\n",
       "    <tr>\n",
       "      <th>4</th>\n",
       "      <td>Nazareno Apostol: Boy Ahas</td>\n",
       "      <td>1989</td>\n",
       "      <td>NaN</td>\n",
       "      <td>NaN</td>\n",
       "    </tr>\n",
       "    <tr>\n",
       "      <th>...</th>\n",
       "      <td>...</td>\n",
       "      <td>...</td>\n",
       "      <td>...</td>\n",
       "      <td>...</td>\n",
       "    </tr>\n",
       "    <tr>\n",
       "      <th>230402</th>\n",
       "      <td>El lobo negro</td>\n",
       "      <td>1981</td>\n",
       "      <td>NaN</td>\n",
       "      <td>NaN</td>\n",
       "    </tr>\n",
       "    <tr>\n",
       "      <th>230403</th>\n",
       "      <td>Komu na Rusi zhit...</td>\n",
       "      <td>1989</td>\n",
       "      <td>NaN</td>\n",
       "      <td>NaN</td>\n",
       "    </tr>\n",
       "    <tr>\n",
       "      <th>230404</th>\n",
       "      <td>Senotaji</td>\n",
       "      <td>2013</td>\n",
       "      <td>NaN</td>\n",
       "      <td>NaN</td>\n",
       "    </tr>\n",
       "    <tr>\n",
       "      <th>230405</th>\n",
       "      <td>The Leopard Woman</td>\n",
       "      <td>1920</td>\n",
       "      <td>NaN</td>\n",
       "      <td>NaN</td>\n",
       "    </tr>\n",
       "    <tr>\n",
       "      <th>230406</th>\n",
       "      <td>Mio caro assassino</td>\n",
       "      <td>1972</td>\n",
       "      <td>NaN</td>\n",
       "      <td>NaN</td>\n",
       "    </tr>\n",
       "  </tbody>\n",
       "</table>\n",
       "<p>230407 rows × 4 columns</p>\n",
       "</div>"
      ],
      "text/plain": [
       "                                        title  year Unnamed: 2  Unnamed: 3\n",
       "0                                      Mahler  1974        NaN         NaN\n",
       "1                Ogon, voda i... mednye truby  1968        NaN         NaN\n",
       "2       Ana Nojoom bent alasherah wamotalagah  2014        NaN         NaN\n",
       "3                           Malu de Bicicleta  2010        NaN         NaN\n",
       "4                  Nazareno Apostol: Boy Ahas  1989        NaN         NaN\n",
       "...                                       ...   ...        ...         ...\n",
       "230402                          El lobo negro  1981        NaN         NaN\n",
       "230403                   Komu na Rusi zhit...  1989        NaN         NaN\n",
       "230404                               Senotaji  2013        NaN         NaN\n",
       "230405                      The Leopard Woman  1920        NaN         NaN\n",
       "230406                     Mio caro assassino  1972        NaN         NaN\n",
       "\n",
       "[230407 rows x 4 columns]"
      ]
     },
     "execution_count": 25,
     "metadata": {},
     "output_type": "execute_result"
    }
   ],
   "source": [
    "df_titulos = pd.read_excel('data/data/titles.xlsx')\n",
    "df_titulos"
   ]
  },
  {
   "cell_type": "markdown",
   "metadata": {},
   "source": [
    "leer archivos .xlx\n",
    "> pip install xlrd\n",
    "\n",
    "> df = pd.read_excel('data/titles.xls') \n",
    "\n",
    "> print(df.head())"
   ]
  },
  {
   "cell_type": "code",
   "execution_count": 27,
   "metadata": {},
   "outputs": [
    {
     "data": {
      "text/html": [
       "<div>\n",
       "<style scoped>\n",
       "    .dataframe tbody tr th:only-of-type {\n",
       "        vertical-align: middle;\n",
       "    }\n",
       "\n",
       "    .dataframe tbody tr th {\n",
       "        vertical-align: top;\n",
       "    }\n",
       "\n",
       "    .dataframe thead th {\n",
       "        text-align: right;\n",
       "    }\n",
       "</style>\n",
       "<table border=\"1\" class=\"dataframe\">\n",
       "  <thead>\n",
       "    <tr style=\"text-align: right;\">\n",
       "      <th></th>\n",
       "      <th>title</th>\n",
       "      <th>year</th>\n",
       "      <th>Unnamed: 2</th>\n",
       "      <th>Unnamed: 3</th>\n",
       "    </tr>\n",
       "  </thead>\n",
       "  <tbody>\n",
       "    <tr>\n",
       "      <th>0</th>\n",
       "      <td>Mahler</td>\n",
       "      <td>1974</td>\n",
       "      <td>NaN</td>\n",
       "      <td>NaN</td>\n",
       "    </tr>\n",
       "    <tr>\n",
       "      <th>1</th>\n",
       "      <td>Ogon, voda i... mednye truby</td>\n",
       "      <td>1968</td>\n",
       "      <td>NaN</td>\n",
       "      <td>NaN</td>\n",
       "    </tr>\n",
       "    <tr>\n",
       "      <th>2</th>\n",
       "      <td>Ana Nojoom bent alasherah wamotalagah</td>\n",
       "      <td>2014</td>\n",
       "      <td>NaN</td>\n",
       "      <td>NaN</td>\n",
       "    </tr>\n",
       "    <tr>\n",
       "      <th>3</th>\n",
       "      <td>Malu de Bicicleta</td>\n",
       "      <td>2010</td>\n",
       "      <td>NaN</td>\n",
       "      <td>NaN</td>\n",
       "    </tr>\n",
       "    <tr>\n",
       "      <th>4</th>\n",
       "      <td>Nazareno Apostol: Boy Ahas</td>\n",
       "      <td>1989</td>\n",
       "      <td>NaN</td>\n",
       "      <td>NaN</td>\n",
       "    </tr>\n",
       "    <tr>\n",
       "      <th>...</th>\n",
       "      <td>...</td>\n",
       "      <td>...</td>\n",
       "      <td>...</td>\n",
       "      <td>...</td>\n",
       "    </tr>\n",
       "    <tr>\n",
       "      <th>65530</th>\n",
       "      <td>Nixon's Nixon</td>\n",
       "      <td>2017</td>\n",
       "      <td>NaN</td>\n",
       "      <td>NaN</td>\n",
       "    </tr>\n",
       "    <tr>\n",
       "      <th>65531</th>\n",
       "      <td>Dive Bomber</td>\n",
       "      <td>1941</td>\n",
       "      <td>NaN</td>\n",
       "      <td>NaN</td>\n",
       "    </tr>\n",
       "    <tr>\n",
       "      <th>65532</th>\n",
       "      <td>Port of Memory</td>\n",
       "      <td>2010</td>\n",
       "      <td>NaN</td>\n",
       "      <td>NaN</td>\n",
       "    </tr>\n",
       "    <tr>\n",
       "      <th>65533</th>\n",
       "      <td>La Monjita</td>\n",
       "      <td>1931</td>\n",
       "      <td>NaN</td>\n",
       "      <td>NaN</td>\n",
       "    </tr>\n",
       "    <tr>\n",
       "      <th>65534</th>\n",
       "      <td>Moontrap</td>\n",
       "      <td>1989</td>\n",
       "      <td>NaN</td>\n",
       "      <td>NaN</td>\n",
       "    </tr>\n",
       "  </tbody>\n",
       "</table>\n",
       "<p>65535 rows × 4 columns</p>\n",
       "</div>"
      ],
      "text/plain": [
       "                                       title  year Unnamed: 2  Unnamed: 3\n",
       "0                                     Mahler  1974        NaN         NaN\n",
       "1               Ogon, voda i... mednye truby  1968        NaN         NaN\n",
       "2      Ana Nojoom bent alasherah wamotalagah  2014        NaN         NaN\n",
       "3                          Malu de Bicicleta  2010        NaN         NaN\n",
       "4                 Nazareno Apostol: Boy Ahas  1989        NaN         NaN\n",
       "...                                      ...   ...        ...         ...\n",
       "65530                          Nixon's Nixon  2017        NaN         NaN\n",
       "65531                            Dive Bomber  1941        NaN         NaN\n",
       "65532                         Port of Memory  2010        NaN         NaN\n",
       "65533                             La Monjita  1931        NaN         NaN\n",
       "65534                               Moontrap  1989        NaN         NaN\n",
       "\n",
       "[65535 rows x 4 columns]"
      ]
     },
     "execution_count": 27,
     "metadata": {},
     "output_type": "execute_result"
    }
   ],
   "source": [
    "df_titulos_xls=pd.read_excel('data/data/titles.xls')\n",
    "df_titulos_xls"
   ]
  },
  {
   "cell_type": "markdown",
   "metadata": {},
   "source": [
    "Leer PDF\n",
    "> pip install pypdf\n",
    "\n",
    "> from pypdf import PdfReader\n",
    "\n",
    "> reader = PdfReader('data/titles.pdf')\n",
    "> number_of_pages = len(reader.pages)\n",
    "> page = reader.pages[0]\n",
    "> text = page.extract_text()\n",
    "> print(text)"
   ]
  },
  {
   "cell_type": "code",
   "execution_count": 31,
   "metadata": {},
   "outputs": [
    {
     "name": "stdout",
     "output_type": "stream",
     "text": [
      "titles\n",
      "Page 2The Soul of a Child 1916\n",
      "Nunca 1998\n",
      "Grabenplatz 17 1958\n",
      "Ashour kalb el assad 1961\n",
      "Alexis 2014\n",
      "Carson City Raiders 1948\n",
      "Growing Up Thirty 2005\n",
      "Miehen tie 1940\n",
      "Garam Masala 2005\n",
      "Be Home 2013\n",
      "Hitchhike to Hell 1941\n",
      "Awake 2007\n",
      "The Girl Who Forgot 1940\n",
      "Chilli Is Dead 2010\n",
      "Voyna Printsessy 2013\n",
      "Phenomena 1985\n",
      "Emei fei jian xia 1950\n",
      "Spellbinder 1988\n",
      "Between the Pipes 2017\n",
      "Stuck Between Stations 2011\n",
      "Gimba, Presidente dos Valentes 1963\n",
      "Detective Craig's Coup 1914\n",
      "Porto Il Velo Adoro I Queen 2016\n",
      "Reverie 2011\n",
      "Vreme za zheni 2006\n",
      "Jubilee 2000\n",
      "Chinnabbayi 1997\n",
      "Pryzhok s kryshi 1977\n",
      "Pravda 1957\n",
      "Lovely 2016\n",
      "La coscienza della farfalla 2012\n",
      "Tajouj 1977\n",
      "The Sandwich Thief 2009\n",
      "Il punto rosso 2006\n",
      "Estrella del sur 2002\n",
      "Red 2002\n",
      "In Your Orbit 2012\n",
      "Pelle erobreren 1987\n",
      "Retribution (IX) 2016\n",
      "A Clockwork Orange 1971\n",
      "Dead Lot 2016\n",
      "Fra' Manisco cerca guai 1961\n",
      "Frontera sin ley 1971\n",
      "San tiao ren 1999\n",
      "Havura Shekazot 1962\n",
      "Peri erotos 1982\n",
      "Strawberry Bubblegums 2016\n",
      "Colors 2006\n",
      "Kidnapping! Paga o uccidiamo tuo figlio 1969\n",
      "Sree 2005\n",
      "Katha Parayumpol 2007\n",
      "Gardaab 2016\n",
      "Todd Whitewood 2016\n"
     ]
    }
   ],
   "source": [
    "from pypdf import PdfReader\n",
    "reader = PdfReader('data/data/titles.pdf')\n",
    "number_of_pages=len(reader.pages)\n",
    "page=reader.pages[1]\n",
    "text=page.extract_text()\n",
    "print(text)"
   ]
  },
  {
   "cell_type": "markdown",
   "metadata": {},
   "source": [
    "---"
   ]
  },
  {
   "cell_type": "markdown",
   "metadata": {},
   "source": [
    "### Filtrado con loc y iloc\n",
    "\n",
    "Cuando queremos navegar por un dataFrame estas funciones permiten filtrar datos de manera más específica\n",
    "\n",
    "* loc\n",
    "* iloc"
   ]
  },
  {
   "cell_type": "markdown",
   "metadata": {},
   "source": [
    "Podemos acceder a nuestro DataFrame a traves de slicing e indexación.\n",
    "> df_books[0:4]\n",
    "\n",
    "acceder por columnas, muestra todo el contenido de esa columna.\n",
    "> df_books['Name']\n",
    "\n",
    "Si quisieramos hacer nuestra busqueda de más parametros debemos usar doble [[]]\n",
    "> df_books[['Name','Author','Year']]"
   ]
  },
  {
   "cell_type": "code",
   "execution_count": null,
   "metadata": {},
   "outputs": [],
   "source": []
  },
  {
   "cell_type": "markdown",
   "metadata": {},
   "source": [
    "#### .loc\n",
    "Filtra según un label"
   ]
  },
  {
   "cell_type": "markdown",
   "metadata": {},
   "source": [
    "Para poder visualizar todo\n",
    "> df_books.loc[:]\n"
   ]
  },
  {
   "cell_type": "code",
   "execution_count": null,
   "metadata": {},
   "outputs": [],
   "source": []
  },
  {
   "cell_type": "markdown",
   "metadata": {},
   "source": [
    "Podemos filtrar por medio de indices.\n",
    "> df_books.loc[0:4]\n"
   ]
  },
  {
   "cell_type": "code",
   "execution_count": null,
   "metadata": {},
   "outputs": [],
   "source": []
  },
  {
   "cell_type": "markdown",
   "metadata": {},
   "source": [
    "Podemos filtrar a traves de etiquetas. Y de manera indexada.\n",
    "> df_books.loc[0:4, ['Name', 'Author']]\n"
   ]
  },
  {
   "cell_type": "code",
   "execution_count": null,
   "metadata": {},
   "outputs": [],
   "source": []
  },
  {
   "cell_type": "markdown",
   "metadata": {},
   "source": [
    "También podemos hacer operación con los valores.\n",
    "> df_books.loc[:,['Reviews']] * 2"
   ]
  },
  {
   "cell_type": "code",
   "execution_count": null,
   "metadata": {},
   "outputs": [],
   "source": []
  },
  {
   "cell_type": "markdown",
   "metadata": {},
   "source": [
    "También podemos filtrar con operaciones lógicas.\n",
    "> df_books.loc[:,['Author']] == 'JJ Smith'"
   ]
  },
  {
   "cell_type": "code",
   "execution_count": null,
   "metadata": {},
   "outputs": [],
   "source": []
  },
  {
   "cell_type": "markdown",
   "metadata": {},
   "source": [
    "#### .iloc\n",
    "Filtra mediante índices."
   ]
  },
  {
   "cell_type": "markdown",
   "metadata": {},
   "source": [
    "Le decimos que queremos todo.\n",
    "> df_books.iloc[:]\n"
   ]
  },
  {
   "cell_type": "code",
   "execution_count": null,
   "metadata": {},
   "outputs": [],
   "source": []
  },
  {
   "cell_type": "markdown",
   "metadata": {},
   "source": [
    "Ahora nuestras busuqedas van a ser por indice. Y no por etiquetas.\n",
    "\n",
    "> df_books.iloc[:,0:3]\n"
   ]
  },
  {
   "cell_type": "code",
   "execution_count": null,
   "metadata": {},
   "outputs": [],
   "source": []
  },
  {
   "cell_type": "markdown",
   "metadata": {},
   "source": [
    "Es algo similar pero ahora estamos accediente a traves de los indices.\n",
    "\n",
    "> df_books.iloc[1,3]\n"
   ]
  },
  {
   "cell_type": "code",
   "execution_count": null,
   "metadata": {},
   "outputs": [],
   "source": []
  },
  {
   "cell_type": "markdown",
   "metadata": {},
   "source": [
    "Podemos operar con los liltros. \n",
    "\n",
    "> df_books.iloc[1,3] /2\n"
   ]
  },
  {
   "cell_type": "code",
   "execution_count": null,
   "metadata": {},
   "outputs": [],
   "source": []
  },
  {
   "cell_type": "markdown",
   "metadata": {},
   "source": [
    "Aquí le pedimos que nos muestre desde el primer valor hasta el tercero. A nivel de Filas\n",
    "Con el segundo parametro, fenimos a partir del tercer valor hasta el último a nivel de columnas.\n",
    "\n",
    "> df_books.iloc[:2,2:]\n"
   ]
  },
  {
   "cell_type": "code",
   "execution_count": null,
   "metadata": {},
   "outputs": [],
   "source": []
  },
  {
   "cell_type": "markdown",
   "metadata": {},
   "source": [
    "---"
   ]
  },
  {
   "cell_type": "markdown",
   "metadata": {},
   "source": [
    "#### Funciones principales de Pandas\n",
    "\n",
    ".head()\n",
    "Mostrar las primeras 5 líneas de registro\n",
    "\n",
    "Por defaul nos muestra las primeras 5 líneas\n",
    "> df_books.head()\n",
    "\n",
    "Pero podemos elegir las que queramos\n",
    "> df_books.head(2)\n"
   ]
  },
  {
   "cell_type": "code",
   "execution_count": null,
   "metadata": {},
   "outputs": [],
   "source": []
  },
  {
   "cell_type": "markdown",
   "metadata": {},
   "source": [
    ".info()\n",
    "\n",
    "Mostrar los diferentes datos que contiene el DataFrame\n",
    "\n",
    "Nos muestra toda la información de nuestro Dataframe\n",
    "> df_books.info()\n"
   ]
  },
  {
   "cell_type": "code",
   "execution_count": null,
   "metadata": {},
   "outputs": [],
   "source": []
  },
  {
   "cell_type": "markdown",
   "metadata": {},
   "source": [
    ".describe()\n",
    "\n",
    "Obtener diferentes datos estadísticos de las columnas numéricas.\n",
    "\n",
    "Sólo de las columnas numéricas\n",
    "> df_books.describe()\n"
   ]
  },
  {
   "cell_type": "code",
   "execution_count": null,
   "metadata": {},
   "outputs": [],
   "source": []
  },
  {
   "cell_type": "markdown",
   "metadata": {},
   "source": [
    ".tail()¶\n",
    "\n",
    "Mostrar los últimos 5 registros del DataFrame\n",
    "\n",
    "De igual manera como funciona .head() podemos usar .tail()\n",
    "> df_books.tail()\n",
    "\n",
    "> df_books.tail(2)\n",
    "\n",
    "> df_books.tail(10)"
   ]
  },
  {
   "cell_type": "code",
   "execution_count": null,
   "metadata": {},
   "outputs": [],
   "source": []
  },
  {
   "cell_type": "markdown",
   "metadata": {},
   "source": [
    " Conocer el tamaño del dataframe\n",
    "\n",
    "_len(titulos)_\n",
    "\n",
    "_len(elenco)_"
   ]
  },
  {
   "cell_type": "code",
   "execution_count": null,
   "metadata": {},
   "outputs": [],
   "source": []
  },
  {
   "cell_type": "markdown",
   "metadata": {},
   "source": [
    ".memory_usage()\n",
    "\n",
    "Obtener el uso de la memoria de cada columna\n",
    "\n",
    "Dónde con deep=True le indicamos que queremos una busqueda profunda\n",
    "> df_books.memory_usage(deep=True)\n"
   ]
  },
  {
   "cell_type": "code",
   "execution_count": null,
   "metadata": {},
   "outputs": [],
   "source": []
  },
  {
   "cell_type": "markdown",
   "metadata": {},
   "source": [
    ".value_counts()\n",
    "\n",
    "Obtener cuantos datos tenemos de algo en específico\n",
    "\n",
    "Me va a contar cuantos valores tengo en mi dataframe de una busqueda específica.\n",
    "> df_books['Author'].value_counts()\n"
   ]
  },
  {
   "cell_type": "code",
   "execution_count": null,
   "metadata": {},
   "outputs": [],
   "source": []
  },
  {
   "cell_type": "markdown",
   "metadata": {},
   "source": [
    ".drop_duplicates()\n",
    "\n",
    "Eliminar registros duplicados.\n",
    "\n",
    "Vamos a entrar al registro del posición 0\n",
    "> df_books.iloc[0]\n",
    "\n",
    "Duplicamos nuestro ejemplo\n",
    "> df_books = df_books.append(df_books.iloc[0])\n",
    "\n",
    "Vemos que ahora se encuentra al principio y al final los mismos valores.\n",
    "> df_books\n",
    "\n",
    "Simplemente llamando a la función podemos eliminar todos los duplicados.\n",
    "> df_books.drop_duplicates()\n",
    "\n",
    "También podemos agregar parámetros\n",
    "Con este le decimos que sólo borré el último\n",
    "> df_books.drop_duplicates(keep='last')\n"
   ]
  },
  {
   "cell_type": "code",
   "execution_count": null,
   "metadata": {},
   "outputs": [],
   "source": []
  },
  {
   "cell_type": "markdown",
   "metadata": {},
   "source": [
    "---"
   ]
  },
  {
   "cell_type": "markdown",
   "metadata": {},
   "source": [
    "#### Agregar o eliminar datos con Pandas¶\n",
    "Muchas ocasiones necesitamos agregar, eliminar o separar datos y pandas nos ofrece varias funciones para que este proceso se vuelva mucho más sencillo.\n",
    "\n",
    "Esto lo logramos con:\n",
    "\n",
    "* pd.drop Para eliminar\n",
    "* pd.append Para Agregar"
   ]
  },
  {
   "cell_type": "markdown",
   "metadata": {},
   "source": [
    "Cargamos nuestro archivo csv\n",
    "> df_books = pd.read_csv(('/content/example.csv'))\n",
    "\n",
    "Retornar las primeras 5 filas\n",
    "> df_books.head()\n",
    "\n"
   ]
  },
  {
   "cell_type": "markdown",
   "metadata": {},
   "source": [
    "##### Drop columns\n",
    "\n",
    "Eliminar columnas de la salida pero no del DataFrame\n",
    "\n",
    "Recordemos que axis=0 es para las filas y axis=1 para las columnas.\n",
    "> df_books.drop('Genre', axis=1).head(2)\n",
    "\n",
    "Para eliminar de manera definitiva. Usamos inplace=True\n",
    "> df_books = df_books.drop('Year', axis=1, inplace=True)\n"
   ]
  },
  {
   "cell_type": "code",
   "execution_count": null,
   "metadata": {},
   "outputs": [],
   "source": []
  },
  {
   "cell_type": "markdown",
   "metadata": {},
   "source": [
    "\n",
    "Eliminar Columnas Con Del\n",
    "\n",
    "> del df_books['Price']\n",
    "\n",
    "> df_books"
   ]
  },
  {
   "cell_type": "code",
   "execution_count": null,
   "metadata": {},
   "outputs": [],
   "source": []
  },
  {
   "cell_type": "markdown",
   "metadata": {},
   "source": [
    "Eliminar Filas\n",
    "\n",
    "Elimina la fila 0 del DataFrame\n",
    "> df_books.drop(0, axis=0)\n"
   ]
  },
  {
   "cell_type": "code",
   "execution_count": null,
   "metadata": {},
   "outputs": [],
   "source": []
  },
  {
   "cell_type": "markdown",
   "metadata": {},
   "source": [
    "elimina las filas 0, 1 y 2 del dataFrame\n",
    "> df_books.drop([0,1,2], axis=0)\n"
   ]
  },
  {
   "cell_type": "code",
   "execution_count": null,
   "metadata": {},
   "outputs": [],
   "source": []
  },
  {
   "cell_type": "markdown",
   "metadata": {},
   "source": [
    "elimina las primeras 10 filas del dataFrame\n",
    "> df_books.drop(range(0,10), axis=0)\n"
   ]
  },
  {
   "cell_type": "code",
   "execution_count": null,
   "metadata": {},
   "outputs": [],
   "source": []
  },
  {
   "cell_type": "markdown",
   "metadata": {},
   "source": [
    "---"
   ]
  },
  {
   "cell_type": "markdown",
   "metadata": {},
   "source": [
    "#### Add Columns\n",
    "\n",
    "Agregar una nueva columna con valores Nan\n",
    "\n",
    "> df_books['Nueva_Columna'] = np.nan\n",
    "\n",
    "Con esto lo que indicamos es que no es un valor númerico.\n",
    "\n",
    "> df_books"
   ]
  },
  {
   "cell_type": "code",
   "execution_count": null,
   "metadata": {},
   "outputs": [],
   "source": []
  },
  {
   "cell_type": "markdown",
   "metadata": {},
   "source": [
    "Muestra el numero de filas que posee el dataFrame\n",
    "> df_books.shape[0]\n"
   ]
  },
  {
   "cell_type": "code",
   "execution_count": null,
   "metadata": {},
   "outputs": [],
   "source": []
  },
  {
   "cell_type": "markdown",
   "metadata": {},
   "source": [
    "Estamos agregando valores con un rango de numpy\n",
    "> data = np.arange(0,df_books.shape[0])\n",
    "\n",
    "> data\n",
    "\n",
    "Agregamos una nueva columna con la información que ya hicimos.\n",
    "> df_books['Rango'] = data\n",
    "\n",
    "> df_books"
   ]
  },
  {
   "cell_type": "code",
   "execution_count": null,
   "metadata": {},
   "outputs": [],
   "source": []
  },
  {
   "cell_type": "markdown",
   "metadata": {},
   "source": [
    "Duplica las filas del dataFrame porque se agrega a si mismo\n",
    "\n",
    "> df_books.append(df_books)\n"
   ]
  },
  {
   "cell_type": "code",
   "execution_count": null,
   "metadata": {},
   "outputs": [],
   "source": []
  },
  {
   "cell_type": "markdown",
   "metadata": {},
   "source": [
    "####  Manejo de datos nulos.\n",
    "\n",
    "Los datos nulos son dolores de cabeza para este mundo de la ciencia de datos y se van a encontrar mucho en nuestros DataFrames\n",
    "\n",
    "Comenzamos creando un DataFrame con algunos valores nulos\n",
    "\n",
    "> import pandas as pd\n",
    "> import numpy as np\n",
    "\n",
    "> dict = {\n",
    "    'Col1':[1,2,3,np.nan],\n",
    "    'Col2':[4,np.nan,6,7],\n",
    "    'Col3':['a','b','c',None]\n",
    "}\n",
    "\n",
    "> df = pd.DataFrame(dict)"
   ]
  },
  {
   "cell_type": "code",
   "execution_count": null,
   "metadata": {},
   "outputs": [],
   "source": []
  },
  {
   "cell_type": "markdown",
   "metadata": {},
   "source": [
    "Aquí nos entrega una lista con datos booleanos\n",
    "True hay valor, False no lo hay.\n",
    "> df.isnull()\n"
   ]
  },
  {
   "cell_type": "code",
   "execution_count": null,
   "metadata": {},
   "outputs": [],
   "source": []
  },
  {
   "cell_type": "markdown",
   "metadata": {},
   "source": [
    "Identificar valores nulos con un valor numérico\n",
    "Esa misma visualización a manera binaria.\n",
    "> df.isnull()*1\n"
   ]
  },
  {
   "cell_type": "code",
   "execution_count": null,
   "metadata": {},
   "outputs": [],
   "source": []
  },
  {
   "cell_type": "markdown",
   "metadata": {},
   "source": [
    "Podemos sustituir los valores nulos con un valor que deseemos.\n",
    "también pudiera son con un valor numérico\n",
    "> df.fillna('Es nulo')\n"
   ]
  },
  {
   "cell_type": "code",
   "execution_count": null,
   "metadata": {},
   "outputs": [],
   "source": []
  },
  {
   "cell_type": "markdown",
   "metadata": {},
   "source": [
    "También con .fillna podemos realizar multiples operaciones\n",
    "Aquí pedimos que nos aplique la media.\n",
    "\n",
    "> df.fillna(df.mean())\n"
   ]
  },
  {
   "cell_type": "code",
   "execution_count": null,
   "metadata": {},
   "outputs": [],
   "source": []
  },
  {
   "cell_type": "markdown",
   "metadata": {},
   "source": [
    ".dropna()\n",
    "\n",
    "Eliminar valores nulos Así de sencillo podemos eliminar todos los datos nulos de nuestro DataFrame.\n",
    "\n",
    "> df.dropna()"
   ]
  },
  {
   "cell_type": "code",
   "execution_count": null,
   "metadata": {},
   "outputs": [],
   "source": []
  },
  {
   "cell_type": "markdown",
   "metadata": {},
   "source": [
    "---"
   ]
  },
  {
   "cell_type": "markdown",
   "metadata": {},
   "source": [
    "#### Filtrado por condiciones con Pandas\n",
    "\n",
    "Funciona por lógica booleana y retorna los valores que están en “True”. \n",
    "Es muy útil porque en ocasiones queremos filtrar o separar datos.\n",
    "\n",
    "Create a sample dataframe\n",
    "\n",
    "> Biodata = {'Name': ['John', 'Emily', 'Mike', 'Lisa'],\n",
    "        'Age': [28, 23, 35, 31],\n",
    "        'Gender': ['M', 'F', 'M', 'F']\n",
    "        }\n",
    "        \n",
    "> df = pd.DataFrame(Biodata)\n",
    "\n",
    "Save the dataframe to a CSV file\n",
    "\n",
    "> df.to_csv('data/Biodata.csv', index=False)"
   ]
  },
  {
   "cell_type": "code",
   "execution_count": 14,
   "metadata": {},
   "outputs": [],
   "source": [
    "\n"
   ]
  },
  {
   "cell_type": "markdown",
   "metadata": {},
   "source": [
    "Recorrer Filas\n",
    "\n",
    "> data = {'name': ['Mike', 'Doe', 'James'], 'age': [18, 19, 29]}\n",
    "> df = pd.DataFrame(data)\n",
    "\n",
    "loop through the rows using iterrows()\n",
    "> for index, row in df.iterrows():\n",
    "\n",
    ">    print(row['name'], row['age'])"
   ]
  },
  {
   "cell_type": "code",
   "execution_count": null,
   "metadata": {},
   "outputs": [],
   "source": []
  },
  {
   "cell_type": "markdown",
   "metadata": {},
   "source": [
    "Recorrer columnas\n",
    "\n",
    "> df = pd.DataFrame({\n",
    "    'A': [1, 2, 3],\n",
    "    'B': [4, 5, 6],\n",
    "    'C': [7, 8, 9]\n",
    "})\n",
    "\n",
    "Loop through columns using a for loop\n",
    "> for col in df.columns:\n",
    ">    print(col)\n"
   ]
  },
  {
   "cell_type": "code",
   "execution_count": null,
   "metadata": {},
   "outputs": [],
   "source": []
  },
  {
   "cell_type": "markdown",
   "metadata": {},
   "source": [
    "Eliminar Columnas\n",
    "\n",
    "create a sample dataframe\n",
    "data = {'name': ['Alice', 'Bob', 'Charlie'],\n",
    "        'age': [25, 30, 35],\n",
    "        'gender': ['F', 'M', 'M']\n",
    "        }\n",
    "df = pd.DataFrame(data)\n",
    "\n",
    "display the original dataframe\n",
    "print('Original DataFrame:\\n', df)\n",
    "\n",
    "drop the 'gender' column\n",
    "df = df.drop(columns=['gender'])\n",
    "\n",
    "display the modified dataframe\n",
    "print('Modified DataFrame:\\n', df)"
   ]
  },
  {
   "cell_type": "code",
   "execution_count": null,
   "metadata": {},
   "outputs": [],
   "source": []
  },
  {
   "cell_type": "markdown",
   "metadata": {},
   "source": [
    "Eliminar multiples columnas\n"
   ]
  },
  {
   "cell_type": "code",
   "execution_count": null,
   "metadata": {},
   "outputs": [],
   "source": [
    "# create a sample dataframe\n",
    "data = {'name': ['John', 'Mary', 'Peter'],\n",
    "        'age': [30, 25, 35],\n",
    "        'gender': ['Male', 'Female', 'Male'],\n",
    "        'city': ['New York', 'London', 'Paris']}\n",
    "df = pd.DataFrame(data)\n",
    "\n",
    "# remove the 'gender' and 'city' columns\n",
    "df.drop(columns=['gender', 'city'], inplace=True)\n",
    "\n",
    "# print the modified dataframe\n",
    "print(df)"
   ]
  },
  {
   "cell_type": "markdown",
   "metadata": {},
   "source": [
    "--- \n",
    "### Group By\n",
    "\n",
    "\n",
    "> df.groupby('Payment')['Quantity'].sum()\n",
    "\n",
    "> df.groupby('Payment')['Quantity'].count()\n",
    "\n",
    "> df.groupby(['Payment', 'Customer type'])['Quantity'].sum()\n",
    "\n",
    "> df.groupby('Payment')['Quantity'].agg([np.sum, np.mean])"
   ]
  },
  {
   "cell_type": "code",
   "execution_count": null,
   "metadata": {},
   "outputs": [],
   "source": []
  },
  {
   "cell_type": "markdown",
   "metadata": {},
   "source": [
    "### Sort\n",
    "\n",
    "data = {'item': ['laptop', 'monitor', 'HDMI', 'speaker'],\n",
    "        'cost': [500, 300, 700, 600]\n",
    "       }\n",
    "\n",
    "df = pd.DataFrame(data)\n",
    "\n",
    "sorted_data = df.sort_values(by='cost', ascending=True)\n",
    "\n",
    "sorted_data"
   ]
  },
  {
   "cell_type": "code",
   "execution_count": null,
   "metadata": {},
   "outputs": [],
   "source": []
  },
  {
   "cell_type": "markdown",
   "metadata": {},
   "source": [
    "### Rename\n",
    "\n",
    "students = {\n",
    "    \"firstname\": [\"John\", \"Jane\", \"Jade\"], \n",
    "    \"lastname\": [\"Doe\", \"Done\", \"Do\"]\n",
    "}\n",
    "\n",
    "convert student names into a Dataframe\n",
    "\n",
    "df = pd.DataFrame(students)\n",
    "\n",
    "df.rename(columns={\"firstname\": \"FIRSTNAME\", \"lastname\": \"LASTNAME\"}, inplace=True)\n",
    "\n",
    "print(df)"
   ]
  },
  {
   "cell_type": "code",
   "execution_count": null,
   "metadata": {},
   "outputs": [],
   "source": []
  },
  {
   "cell_type": "markdown",
   "metadata": {},
   "source": [
    "import pandas as pd\n",
    "\n",
    "students = {\n",
    "    \"firstname\": [\"John\", \"Jane\", \"Jade\"], \n",
    "    \"lastname\": [\"Doe\", \"Done\", \"Do\"]\n",
    "}\n",
    "\n",
    "convert student names into a Dataframe\n",
    "\n",
    "df = pd.DataFrame(students)\n",
    "df.columns = [\"FIRSTNAME\", \"SURNAME\"]\n",
    "\n",
    "print(df)"
   ]
  },
  {
   "cell_type": "code",
   "execution_count": null,
   "metadata": {},
   "outputs": [],
   "source": []
  },
  {
   "cell_type": "markdown",
   "metadata": {},
   "source": []
  }
 ],
 "metadata": {
  "kernelspec": {
   "display_name": "Python 3",
   "language": "python",
   "name": "python3"
  },
  "language_info": {
   "codemirror_mode": {
    "name": "ipython",
    "version": 3
   },
   "file_extension": ".py",
   "mimetype": "text/x-python",
   "name": "python",
   "nbconvert_exporter": "python",
   "pygments_lexer": "ipython3",
   "version": "3.10.13"
  }
 },
 "nbformat": 4,
 "nbformat_minor": 2
}
