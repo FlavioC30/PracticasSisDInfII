{
 "cells": [
  {
   "cell_type": "markdown",
   "metadata": {},
   "source": [
    "# Practica de Pandas"
   ]
  },
  {
   "cell_type": "markdown",
   "metadata": {},
   "source": [
    "## Series"
   ]
  },
  {
   "cell_type": "markdown",
   "metadata": {},
   "source": [
    "1. Crear y visualizar un arreglo unidimensional como una estructura Series."
   ]
  },
  {
   "cell_type": "code",
   "execution_count": 1,
   "metadata": {},
   "outputs": [
    {
     "name": "stdout",
     "output_type": "stream",
     "text": [
      "Serie creada:\n",
      "0    10\n",
      "1    20\n",
      "2    30\n",
      "3    40\n",
      "4    50\n",
      "dtype: int64\n"
     ]
    }
   ],
   "source": [
    "import pandas as pd\n",
    "datos = [10, 20, 30, 40, 50]  # Lista de datos\n",
    "serie = pd.Series(datos)\n",
    "print(\"Serie creada:\")\n",
    "print(serie)\n"
   ]
  },
  {
   "cell_type": "markdown",
   "metadata": {},
   "source": [
    "2. Convertir un objeto Series a una lista Python."
   ]
  },
  {
   "cell_type": "code",
   "execution_count": 2,
   "metadata": {},
   "outputs": [
    {
     "name": "stdout",
     "output_type": "stream",
     "text": [
      "Lista convertida usando tolist(): [10, 20, 30, 40, 50]\n",
      "Lista convertida usando values.tolist(): [10, 20, 30, 40, 50]\n"
     ]
    }
   ],
   "source": [
    "import pandas as pd\n",
    "\n",
    "#Serie de ejemplo\n",
    "datos = [10, 20, 30, 40, 50]  # Lista de datos\n",
    "serie = pd.Series(datos)\n",
    "\n",
    "#Método tolist()\n",
    "lista_resultante_1 = serie.tolist()\n",
    "\n",
    "# Método 2: Acceder al atributo values\n",
    "lista_resultante_2 = serie.values.tolist()\n",
    "\n",
    "# Imprimir las listas resultantes\n",
    "print(\"Lista convertida usando tolist():\", lista_resultante_1)\n",
    "print(\"Lista convertida usando values.tolist():\", lista_resultante_2)\n"
   ]
  },
  {
   "cell_type": "markdown",
   "metadata": {},
   "source": [
    "3. Aplicar las operaciones aritméticas básicas sobre objetos Series."
   ]
  },
  {
   "cell_type": "code",
   "execution_count": 4,
   "metadata": {},
   "outputs": [
    {
     "name": "stdout",
     "output_type": "stream",
     "text": [
      "Suma:\n",
      " 0    11\n",
      "1    22\n",
      "2    33\n",
      "3    44\n",
      "4    55\n",
      "dtype: int64\n",
      "Resta:\n",
      " 0    -9\n",
      "1   -18\n",
      "2   -27\n",
      "3   -36\n",
      "4   -45\n",
      "dtype: int64\n",
      "Multiplicación:\n",
      " 0     10\n",
      "1     40\n",
      "2     90\n",
      "3    160\n",
      "4    250\n",
      "dtype: int64\n",
      "División:\n",
      " 0    0.1\n",
      "1    0.1\n",
      "2    0.1\n",
      "3    0.1\n",
      "4    0.1\n",
      "dtype: float64\n"
     ]
    }
   ],
   "source": [
    "# Crear dos objetos Series\n",
    "serie1 = pd.Series([1, 2, 3, 4, 5])\n",
    "serie2 = pd.Series([10, 20, 30, 40, 50])\n",
    "\n",
    "# Suma\n",
    "suma = serie1 + serie2\n",
    "print(\"Suma:\\n\", suma)\n",
    "\n",
    "# Resta\n",
    "resta = serie1 - serie2\n",
    "print(\"Resta:\\n\", resta)\n",
    "\n",
    "# Multiplicación\n",
    "multiplicacion = serie1 * serie2\n",
    "print(\"Multiplicación:\\n\", multiplicacion)\n",
    "\n",
    "# División\n",
    "division = serie1 / serie2\n",
    "print(\"División:\\n\", division)\n"
   ]
  },
  {
   "cell_type": "markdown",
   "metadata": {},
   "source": [
    "4. Crear dos series y usar operadores relacionales para comparar objetos Series."
   ]
  },
  {
   "cell_type": "code",
   "execution_count": 5,
   "metadata": {},
   "outputs": [
    {
     "name": "stdout",
     "output_type": "stream",
     "text": [
      "Mayor que:\n",
      " 0    False\n",
      "1    False\n",
      "2    False\n",
      "3     True\n",
      "4     True\n",
      "dtype: bool\n",
      "Menor que:\n",
      " 0     True\n",
      "1     True\n",
      "2    False\n",
      "3    False\n",
      "4    False\n",
      "dtype: bool\n",
      "Mayor o igual que:\n",
      " 0    False\n",
      "1    False\n",
      "2     True\n",
      "3     True\n",
      "4     True\n",
      "dtype: bool\n",
      "Menor o igual que:\n",
      " 0     True\n",
      "1     True\n",
      "2     True\n",
      "3    False\n",
      "4    False\n",
      "dtype: bool\n",
      "Igual:\n",
      " 0    False\n",
      "1    False\n",
      "2     True\n",
      "3    False\n",
      "4    False\n",
      "dtype: bool\n",
      "Diferente:\n",
      " 0     True\n",
      "1     True\n",
      "2    False\n",
      "3     True\n",
      "4     True\n",
      "dtype: bool\n"
     ]
    }
   ],
   "source": [
    "# Crear dos objetos Series\n",
    "serie1 = pd.Series([1, 2, 3, 4, 5])\n",
    "serie2 = pd.Series([5, 4, 3, 2, 1])\n",
    "\n",
    "# Mayor que\n",
    "mayor_que = serie1 > serie2\n",
    "print(\"Mayor que:\\n\", mayor_que)\n",
    "\n",
    "# Menor que\n",
    "menor_que = serie1 < serie2\n",
    "print(\"Menor que:\\n\", menor_que)\n",
    "\n",
    "# Mayor o igual que\n",
    "mayor_o_igual_que = serie1 >= serie2\n",
    "print(\"Mayor o igual que:\\n\", mayor_o_igual_que)\n",
    "\n",
    "# Menor o igual que\n",
    "menor_o_igual_que = serie1 <= serie2\n",
    "print(\"Menor o igual que:\\n\", menor_o_igual_que)\n",
    "\n",
    "# Igual\n",
    "igual = serie1 == serie2\n",
    "print(\"Igual:\\n\", igual)\n",
    "\n",
    "# Diferente\n",
    "diferente = serie1 != serie2\n",
    "print(\"Diferente:\\n\", diferente)\n"
   ]
  },
  {
   "cell_type": "markdown",
   "metadata": {},
   "source": [
    "5. Convertir un diccionario Python en un objeto Series."
   ]
  },
  {
   "cell_type": "code",
   "execution_count": 6,
   "metadata": {},
   "outputs": [
    {
     "name": "stdout",
     "output_type": "stream",
     "text": [
      "a    1\n",
      "b    2\n",
      "c    3\n",
      "d    4\n",
      "e    5\n",
      "dtype: int64\n"
     ]
    }
   ],
   "source": [
    "# Crear un diccionario\n",
    "diccionario = {'a': 1, 'b': 2, 'c': 3, 'd': 4, 'e': 5}\n",
    "\n",
    "# Convertir el diccionario en un objeto Series\n",
    "serie = pd.Series(diccionario)\n",
    "\n",
    "# Imprimir la Series resultante\n",
    "print(serie)"
   ]
  },
  {
   "cell_type": "markdown",
   "metadata": {},
   "source": [
    "6. Convertir un arreglo NumPy en un objeto Series"
   ]
  },
  {
   "cell_type": "code",
   "execution_count": 7,
   "metadata": {},
   "outputs": [
    {
     "name": "stdout",
     "output_type": "stream",
     "text": [
      "0    10\n",
      "1    20\n",
      "2    30\n",
      "3    40\n",
      "4    50\n",
      "dtype: int64\n"
     ]
    }
   ],
   "source": [
    "import numpy as np\n",
    "\n",
    "# Crear un arreglo de NumPy\n",
    "arreglo_numpy = np.array([10, 20, 30, 40, 50])\n",
    "\n",
    "# Convertir el arreglo de NumPy en un objeto Series\n",
    "serie = pd.Series(arreglo_numpy)\n",
    "\n",
    "# Imprimir la Series resultante\n",
    "print(serie)"
   ]
  },
  {
   "cell_type": "markdown",
   "metadata": {},
   "source": [
    "7. Extraer una fila de un DataFrame como un objeto Series.\n",
    "\n",
    "datos = {'A': [1, 2, 3, 4, 5], 'B': [6, 5, 4, 3, 2], 'C': [2, 3, 5, 7, 11]}\n",
    "\n"
   ]
  },
  {
   "cell_type": "code",
   "execution_count": 8,
   "metadata": {},
   "outputs": [
    {
     "name": "stdout",
     "output_type": "stream",
     "text": [
      "DataFrame:\n",
      "   A  B   C\n",
      "0  1  6   2\n",
      "1  2  5   3\n",
      "2  3  4   5\n",
      "3  4  3   7\n",
      "4  5  2  11\n",
      "\n",
      "Fila extraída usando loc (índice 2):\n",
      "A    3\n",
      "B    4\n",
      "C    5\n",
      "Name: 2, dtype: int64\n",
      "\n",
      "Fila extraída usando iloc (índice 2):\n",
      "A    3\n",
      "B    4\n",
      "C    5\n",
      "Name: 2, dtype: int64\n"
     ]
    }
   ],
   "source": [
    "# Crear un DataFrame a partir del diccionario\n",
    "datos = {'A': [1, 2, 3, 4, 5], 'B': [6, 5, 4, 3, 2], 'C': [2, 3, 5, 7, 11]}\n",
    "df = pd.DataFrame(datos)\n",
    "\n",
    "# Imprimir el DataFrame\n",
    "print(\"DataFrame:\")\n",
    "print(df)\n",
    "\n",
    "# Extraer la fila en el índice 2 (tercera fila) usando loc\n",
    "fila_loc = df.loc[2]\n",
    "print(\"\\nFila extraída usando loc (índice 2):\")\n",
    "print(fila_loc)\n",
    "\n",
    "# Extraer la fila en el índice 2 (tercera fila) usando iloc\n",
    "fila_iloc = df.iloc[2]\n",
    "print(\"\\nFila extraída usando iloc (índice 2):\")\n",
    "print(fila_iloc)"
   ]
  },
  {
   "cell_type": "markdown",
   "metadata": {},
   "source": [
    "8. Obtener la desviación estándar y el promedio de un conjunto de datos de una serie.\n",
    "\n",
    "datos = [2, 3, 5, 7, 11, 13, 17, 19, 23, 29]"
   ]
  },
  {
   "cell_type": "code",
   "execution_count": 9,
   "metadata": {},
   "outputs": [
    {
     "name": "stdout",
     "output_type": "stream",
     "text": [
      "Promedio: 12.9\n",
      "Desviación estándar: 9.024041962077378\n"
     ]
    }
   ],
   "source": [
    "# Crear una Series a partir de los datos\n",
    "datos = [2, 3, 5, 7, 11, 13, 17, 19, 23, 29]\n",
    "serie = pd.Series(datos)\n",
    "\n",
    "# Calcular el promedio\n",
    "promedio = serie.mean()\n",
    "\n",
    "# Calcular la desviación estándar\n",
    "desviacion_estandar = serie.std()\n",
    "\n",
    "# Imprimir los resultados\n",
    "print(\"Promedio:\", promedio)\n",
    "print(\"Desviación estándar:\", desviacion_estandar)"
   ]
  },
  {
   "cell_type": "markdown",
   "metadata": {},
   "source": [
    "9. Calcular los valores mínimo y máximo de un objeto Series.\n",
    "\n",
    "datos = [2, 3, 5, 7, 11, 13, 17, 19, 23, 29]"
   ]
  },
  {
   "cell_type": "code",
   "execution_count": 11,
   "metadata": {},
   "outputs": [
    {
     "name": "stdout",
     "output_type": "stream",
     "text": [
      "Valor mínimo: 2\n",
      "Valor máximo: 29\n"
     ]
    }
   ],
   "source": [
    "# Crear una Series a partir de los datos\n",
    "datos = [2, 3, 5, 7, 11, 13, 17, 19, 23, 29]\n",
    "serie = pd.Series(datos)\n",
    "\n",
    "# Calcular el valor mínimo\n",
    "valor_minimo = serie.min()\n",
    "\n",
    "# Calcular el valor máximo\n",
    "valor_maximo = serie.max()\n",
    "\n",
    "# Imprimir los resultados\n",
    "print(\"Valor mínimo:\", valor_minimo)\n",
    "print(\"Valor máximo:\", valor_maximo)"
   ]
  },
  {
   "cell_type": "markdown",
   "metadata": {},
   "source": [
    "10. Obtener estádisticas básicas de un objeto Series con el método describe.\n",
    "\n",
    "datos = [2, 3, 5, 7, 11, 13, 17, 19, 23, 29]\n"
   ]
  },
  {
   "cell_type": "code",
   "execution_count": 12,
   "metadata": {},
   "outputs": [
    {
     "name": "stdout",
     "output_type": "stream",
     "text": [
      "count    10.000000\n",
      "mean     12.900000\n",
      "std       9.024042\n",
      "min       2.000000\n",
      "25%       5.500000\n",
      "50%      12.000000\n",
      "75%      18.500000\n",
      "max      29.000000\n",
      "dtype: float64\n"
     ]
    }
   ],
   "source": [
    "# Crear una Series a partir de los datos\n",
    "datos = [2, 3, 5, 7, 11, 13, 17, 19, 23, 29]\n",
    "serie = pd.Series(datos)\n",
    "\n",
    "# Obtener estadísticas descriptivas\n",
    "estadisticas = serie.describe()\n",
    "\n",
    "# Imprimir las estadísticas\n",
    "print(estadisticas)"
   ]
  },
  {
   "cell_type": "markdown",
   "metadata": {},
   "source": [
    "11.  Obtener los elementos pares e impares de un objeto Series numérico.\n",
    "\n",
    "datos = [2, 3, 5, 7, 11, 13, 17, 19, 23, 29]"
   ]
  },
  {
   "cell_type": "code",
   "execution_count": 14,
   "metadata": {},
   "outputs": [
    {
     "name": "stdout",
     "output_type": "stream",
     "text": [
      "Elementos pares:\n",
      "0    2\n",
      "dtype: int64\n",
      "\n",
      "Elementos impares:\n",
      "1     3\n",
      "2     5\n",
      "3     7\n",
      "4    11\n",
      "5    13\n",
      "6    17\n",
      "7    19\n",
      "8    23\n",
      "9    29\n",
      "dtype: int64\n"
     ]
    }
   ],
   "source": [
    "# Crear una Series a partir de los datos\n",
    "datos = [2, 3, 5, 7, 11, 13, 17, 19, 23, 29]\n",
    "serie = pd.Series(datos)\n",
    "\n",
    "# Filtrar los elementos pares\n",
    "elementos_pares = serie[serie % 2 == 0]\n",
    "\n",
    "# Filtrar los elementos impares\n",
    "elementos_impares = serie[serie % 2 != 0]\n",
    "\n",
    "# Imprimir los resultados\n",
    "print(\"Elementos pares:\")\n",
    "print(elementos_pares)\n",
    "\n",
    "print(\"\\nElementos impares:\")\n",
    "print(elementos_impares)"
   ]
  },
  {
   "cell_type": "markdown",
   "metadata": {},
   "source": [
    "12. Comprobar si una serie contiene valores NaN.\n",
    "\n",
    "datos = ['20', '30', 'Python', '50', 100]\n"
   ]
  },
  {
   "cell_type": "code",
   "execution_count": 15,
   "metadata": {},
   "outputs": [
    {
     "name": "stdout",
     "output_type": "stream",
     "text": [
      "La Series contiene valores NaN: False\n"
     ]
    }
   ],
   "source": [
    "# Crear una Series a partir de los datos\n",
    "datos = ['20', '30', 'Python', '50', 100]\n",
    "serie = pd.Series(datos)\n",
    "\n",
    "# Comprobar si la Series contiene valores NaN\n",
    "contiene_nan = serie.isnull().any()\n",
    "\n",
    "# Imprimir el resultado\n",
    "print(\"La Series contiene valores NaN:\", contiene_nan)"
   ]
  },
  {
   "cell_type": "markdown",
   "metadata": {},
   "source": [
    "13. Eliminar los valores NaN de una serie con el método dropna.\n",
    "\n",
    "datos = ['2.3', 'Python', '90', '100', np.nan, '0.5', '.9']"
   ]
  },
  {
   "cell_type": "code",
   "execution_count": 16,
   "metadata": {},
   "outputs": [
    {
     "name": "stdout",
     "output_type": "stream",
     "text": [
      "0       2.3\n",
      "1    Python\n",
      "2        90\n",
      "3       100\n",
      "5       0.5\n",
      "6        .9\n",
      "dtype: object\n"
     ]
    }
   ],
   "source": [
    "# Crear una Serie a partir de los datos\n",
    "datos = ['2.3', 'Python', '90', '100', np.nan, '0.5', '.9']\n",
    "serie = pd.Series(datos)\n",
    "\n",
    "# Eliminar los valores NaN\n",
    "serie_sin_nan = serie.dropna()\n",
    "\n",
    "# Imprimir la Serie resultante\n",
    "print(serie_sin_nan)\n"
   ]
  },
  {
   "cell_type": "markdown",
   "metadata": {},
   "source": [
    "14. Reemplazar los valores NaN (null) de una serie con un valor arbitrario.\n",
    "\n",
    "datos = [1, 3, 7, 11, 'Python', '-0.5', np.nan]"
   ]
  },
  {
   "cell_type": "code",
   "execution_count": 17,
   "metadata": {},
   "outputs": [
    {
     "name": "stdout",
     "output_type": "stream",
     "text": [
      "0         1\n",
      "1         3\n",
      "2         7\n",
      "3        11\n",
      "4    Python\n",
      "5      -0.5\n",
      "6         0\n",
      "dtype: object\n"
     ]
    }
   ],
   "source": [
    "# Crear una Serie a partir de los datos\n",
    "datos = [1, 3, 7, 11, 'Python', '-0.5', np.nan]\n",
    "serie = pd.Series(datos)\n",
    "\n",
    "# Reemplazar los valores NaN con un valor arbitrario, por ejemplo, 0\n",
    "serie_con_valor_arbitrario = serie.fillna(0)\n",
    "\n",
    "# Imprimir la Serie resultante\n",
    "print(serie_con_valor_arbitrario)"
   ]
  },
  {
   "cell_type": "markdown",
   "metadata": {},
   "source": [
    "15. Obtener los primeros y últimos n elementos de un objeto Series.\n",
    "\n",
    "datos = list(range(1, 101))\n",
    "\n"
   ]
  },
  {
   "cell_type": "code",
   "execution_count": 18,
   "metadata": {},
   "outputs": [
    {
     "name": "stdout",
     "output_type": "stream",
     "text": [
      "Primeros 5 elementos:\n",
      "0    1\n",
      "1    2\n",
      "2    3\n",
      "3    4\n",
      "4    5\n",
      "dtype: int64\n",
      "\n",
      "Últimos 5 elementos:\n",
      "95     96\n",
      "96     97\n",
      "97     98\n",
      "98     99\n",
      "99    100\n",
      "dtype: int64\n"
     ]
    }
   ],
   "source": [
    "# Crear una Serie a partir de los datos\n",
    "datos = list(range(1, 101))\n",
    "serie = pd.Series(datos)\n",
    "\n",
    "# Especificar el número de elementos que quieres obtener\n",
    "n = 5\n",
    "\n",
    "# Obtener los primeros n elementos\n",
    "primeros_n = serie.head(n)\n",
    "\n",
    "# Obtener los últimos n elementos\n",
    "ultimos_n = serie.tail(n)\n",
    "\n",
    "# Imprimir los resultados\n",
    "print(\"Primeros\", n, \"elementos:\")\n",
    "print(primeros_n)\n",
    "\n",
    "print(\"\\nÚltimos\", n, \"elementos:\")\n",
    "print(ultimos_n)"
   ]
  },
  {
   "cell_type": "markdown",
   "metadata": {},
   "source": [
    "16. Reemplazar por un valor arbitrario los valores de una serie que no satisfagan la condición de ser multiplos de 3 y 5.\n",
    "\n",
    "datos = list(range(1, 100))"
   ]
  },
  {
   "cell_type": "code",
   "execution_count": 20,
   "metadata": {},
   "outputs": [
    {
     "name": "stdout",
     "output_type": "stream",
     "text": [
      "0     20\n",
      "1     20\n",
      "2     20\n",
      "3     20\n",
      "4     20\n",
      "      ..\n",
      "94    20\n",
      "95    20\n",
      "96    20\n",
      "97    20\n",
      "98    20\n",
      "Length: 99, dtype: int64\n"
     ]
    }
   ],
   "source": [
    "# Crear una Serie a partir de los datos\n",
    "datos = list(range(1, 100))\n",
    "serie = pd.Series(datos)\n",
    "\n",
    "# Reemplazar los valores que no son múltiplos de 3 y 5 con el valor arbitrario 0\n",
    "valor_arbitrario = 20\n",
    "serie_filtrada = serie.mask(~((serie % 3 == 0) & (serie % 5 == 0)), valor_arbitrario)\n",
    "\n",
    "# Imprimir la Serie resultante\n",
    "print(serie_filtrada)"
   ]
  },
  {
   "cell_type": "markdown",
   "metadata": {},
   "source": [
    "17. Contar los valores repetidos en una serie.\n",
    "\n",
    "datos = [5, 3, 5, 7, 7, 3, 1, 2, 3, 0]"
   ]
  },
  {
   "cell_type": "code",
   "execution_count": 21,
   "metadata": {},
   "outputs": [
    {
     "name": "stdout",
     "output_type": "stream",
     "text": [
      "3    3\n",
      "5    2\n",
      "7    2\n",
      "1    1\n",
      "2    1\n",
      "0    1\n",
      "Name: count, dtype: int64\n"
     ]
    }
   ],
   "source": [
    "# Crear una Serie a partir de los datos\n",
    "datos = [5, 3, 5, 7, 7, 3, 1, 2, 3, 0]\n",
    "serie = pd.Series(datos)\n",
    "\n",
    "# Contar los valores repetidos\n",
    "conteo_valores = serie.value_counts()\n",
    "\n",
    "# Imprimir el resultado\n",
    "print(conteo_valores)"
   ]
  },
  {
   "cell_type": "markdown",
   "metadata": {},
   "source": [
    "18. Generar representación JSON de un objeto Series.\n",
    "\n",
    "serie = pd.Series([1, 2, 3, 4, 5,6,7,8,])\n"
   ]
  },
  {
   "cell_type": "code",
   "execution_count": 22,
   "metadata": {},
   "outputs": [
    {
     "name": "stdout",
     "output_type": "stream",
     "text": [
      "{\"0\":1,\"1\":2,\"2\":3,\"3\":4,\"4\":5,\"5\":6,\"6\":7,\"7\":8}\n"
     ]
    }
   ],
   "source": [
    "# Crear una Serie a partir de los datos\n",
    "serie = pd.Series([1, 2, 3, 4, 5, 6, 7, 8])\n",
    "\n",
    "# Generar la representación JSON de la Serie\n",
    "representacion_json = serie.to_json()\n",
    "\n",
    "# Imprimir la representación JSON\n",
    "print(representacion_json)"
   ]
  },
  {
   "cell_type": "markdown",
   "metadata": {},
   "source": [
    "19. Encontrar los elementos que están dentro de un rango.\n",
    "\n",
    "datos = [7, 2, 3, 5, 0, np.nan]"
   ]
  },
  {
   "cell_type": "code",
   "execution_count": 23,
   "metadata": {},
   "outputs": [
    {
     "name": "stdout",
     "output_type": "stream",
     "text": [
      "1    2.0\n",
      "2    3.0\n",
      "3    5.0\n",
      "dtype: float64\n"
     ]
    }
   ],
   "source": [
    "# Crear una Serie a partir de los datos\n",
    "datos = [7, 2, 3, 5, 0, np.nan]\n",
    "serie = pd.Series(datos)\n",
    "\n",
    "# Especificar el rango\n",
    "rango_inicio = 2\n",
    "rango_fin = 5\n",
    "\n",
    "# Encontrar los elementos dentro del rango\n",
    "elementos_en_rango = serie[(serie >= rango_inicio) & (serie <= rango_fin)]\n",
    "\n",
    "# Imprimir los elementos en el rango\n",
    "print(elementos_en_rango)"
   ]
  },
  {
   "cell_type": "markdown",
   "metadata": {},
   "source": [
    "20. Guardar datos de un objeto Series en un archivo de Excel.\n",
    "\n",
    "produccion = {'Enero': 1000, 'Febrero': 1100, 'Marzo': 900, 'Abril': 850, 'Mayo': 950}\n"
   ]
  },
  {
   "cell_type": "code",
   "execution_count": 24,
   "metadata": {},
   "outputs": [
    {
     "name": "stdout",
     "output_type": "stream",
     "text": [
      "Datos guardados en produccion.xlsx\n"
     ]
    }
   ],
   "source": [
    "# Crear una Serie a partir de los datos\n",
    "produccion = pd.Series({'Enero': 1000, 'Febrero': 1100, 'Marzo': 900, 'Abril': 850, 'Mayo': 950})\n",
    "\n",
    "# Especificar el nombre del archivo de Excel\n",
    "nombre_archivo_excel = 'produccion.xlsx'\n",
    "\n",
    "# Guardar los datos en un archivo de Excel\n",
    "produccion.to_excel(nombre_archivo_excel, index_label='Mes', header=['Produccion'])\n",
    "\n",
    "print(\"Datos guardados en\", nombre_archivo_excel)"
   ]
  },
  {
   "cell_type": "markdown",
   "metadata": {},
   "source": [
    "21. Usar la función filter para extraer elementos por su índice.\n",
    "\n",
    "produccion = {'Enero': 1000, 'Febrero': 1100, 'Marzo': 900, 'Abril': 850, 'Mayo': 950}"
   ]
  },
  {
   "cell_type": "code",
   "execution_count": 25,
   "metadata": {},
   "outputs": [
    {
     "name": "stdout",
     "output_type": "stream",
     "text": [
      "Enero    1000\n",
      "Marzo     900\n",
      "Mayo      950\n",
      "dtype: int64\n"
     ]
    }
   ],
   "source": [
    "# Crear un objeto Series a partir del diccionario\n",
    "produccion = pd.Series({'Enero': 1000, 'Febrero': 1100, 'Marzo': 900, 'Abril': 850, 'Mayo': 950})\n",
    "\n",
    "# Usar filter para extraer elementos por su índice\n",
    "indices_a_filtrar = ['Enero', 'Marzo', 'Mayo']\n",
    "resultado = produccion.filter(items=indices_a_filtrar)\n",
    "\n",
    "# Imprimir el resultado\n",
    "print(resultado)"
   ]
  },
  {
   "cell_type": "markdown",
   "metadata": {},
   "source": [
    "## DataFrame"
   ]
  },
  {
   "cell_type": "markdown",
   "metadata": {},
   "source": [
    "22. Crear un objeto DataFrame a partir de un objeto Series.\n",
    "\n",
    "datos = [2, 3, 4, 7, 11, 12]\n",
    "\n"
   ]
  },
  {
   "cell_type": "code",
   "execution_count": 26,
   "metadata": {},
   "outputs": [
    {
     "name": "stdout",
     "output_type": "stream",
     "text": [
      "   Datos\n",
      "0      2\n",
      "1      3\n",
      "2      4\n",
      "3      7\n",
      "4     11\n",
      "5     12\n"
     ]
    }
   ],
   "source": [
    "# Crear un objeto Series a partir de los datos\n",
    "serie = pd.Series([2, 3, 4, 7, 11, 12])\n",
    "\n",
    "# Crear un objeto DataFrame a partir de la Serie\n",
    "df = pd.DataFrame(serie, columns=['Datos'])\n",
    "\n",
    "# Imprimir el DataFrame resultante\n",
    "print(df)"
   ]
  },
  {
   "cell_type": "markdown",
   "metadata": {},
   "source": [
    "23. Crear un objeto de la clase DataFrame.\n",
    "\n",
    "datos = {'X': [1, 2, 3, 4, 5], 'Y': [5, 4, 3, 2, 1], 'Z': [2, 3, 5, 7, 11]}\n"
   ]
  },
  {
   "cell_type": "code",
   "execution_count": 27,
   "metadata": {},
   "outputs": [
    {
     "name": "stdout",
     "output_type": "stream",
     "text": [
      "   X  Y   Z\n",
      "0  1  5   2\n",
      "1  2  4   3\n",
      "2  3  3   5\n",
      "3  4  2   7\n",
      "4  5  1  11\n"
     ]
    }
   ],
   "source": [
    "# Crear un diccionario de listas\n",
    "datos = {'X': [1, 2, 3, 4, 5], 'Y': [5, 4, 3, 2, 1], 'Z': [2, 3, 5, 7, 11]}\n",
    "\n",
    "# Crear un objeto DataFrame a partir del diccionario\n",
    "df = pd.DataFrame(datos)\n",
    "\n",
    "# Imprimir el DataFrame resultante\n",
    "print(df)"
   ]
  },
  {
   "cell_type": "markdown",
   "metadata": {},
   "source": [
    "24. Obtener los nombres de las filas y las columnas de un DataFrame.\n",
    "\n",
    "datos = {'X': [1, 2, 3, 4, 5], 'Y': [5, 4, 3, 2, 1], 'Z': [2, 3, 5, 7, 11]}"
   ]
  },
  {
   "cell_type": "code",
   "execution_count": 28,
   "metadata": {},
   "outputs": [
    {
     "name": "stdout",
     "output_type": "stream",
     "text": [
      "Nombres de las filas: [0, 1, 2, 3, 4]\n",
      "Nombres de las columnas: ['X', 'Y', 'Z']\n"
     ]
    }
   ],
   "source": [
    "# Crear un diccionario de listas\n",
    "datos = {'X': [1, 2, 3, 4, 5], 'Y': [5, 4, 3, 2, 1], 'Z': [2, 3, 5, 7, 11]}\n",
    "\n",
    "# Crear un objeto DataFrame a partir del diccionario\n",
    "df = pd.DataFrame(datos)\n",
    "\n",
    "# Obtener los nombres de las filas (índices)\n",
    "nombres_filas = df.index.tolist()\n",
    "\n",
    "# Obtener los nombres de las columnas\n",
    "nombres_columnas = df.columns.tolist()\n",
    "\n",
    "# Imprimir los nombres de las filas y columnas\n",
    "print(\"Nombres de las filas:\", nombres_filas)\n",
    "print(\"Nombres de las columnas:\", nombres_columnas)"
   ]
  },
  {
   "cell_type": "markdown",
   "metadata": {},
   "source": [
    "25. Obtener los tipos de datos de las columnas de un DataFrame.\n",
    "\n",
    "datos = {'real': [3.1415], 'entero': [0], 'fecha': [pd.Timestamp('20170121')], \n",
    "         'cadena': 'Python'}"
   ]
  },
  {
   "cell_type": "code",
   "execution_count": 29,
   "metadata": {},
   "outputs": [
    {
     "name": "stdout",
     "output_type": "stream",
     "text": [
      "real             float64\n",
      "entero             int64\n",
      "fecha     datetime64[ns]\n",
      "cadena            object\n",
      "dtype: object\n"
     ]
    }
   ],
   "source": [
    "# Crear un diccionario de listas\n",
    "datos = {'real': [3.1415], 'entero': [0], 'fecha': [pd.Timestamp('20170121')], 'cadena': ['Python']}\n",
    "\n",
    "# Crear un DataFrame a partir del diccionario\n",
    "df = pd.DataFrame(datos)\n",
    "\n",
    "# Obtener los tipos de datos de las columnas\n",
    "tipos_de_datos = df.dtypes\n",
    "\n",
    "# Imprimir los tipos de datos de las columnas\n",
    "print(tipos_de_datos)"
   ]
  },
  {
   "cell_type": "markdown",
   "metadata": {},
   "source": [
    "26. Mostrar un reporte con la información básica de un objeto DataFrame.\n",
    "\n",
    "``` python\n",
    "lenguajes = ['Python', 'Java', 'C#', 'JavaScript', 'C++', 'PHP']\n",
    "agnio_creacion = [1990, 1995, 2013, 1995, 1985, 1995]\n",
    "interpretado = [True, False, False, True, False, True]\n",
    "extension = ['.py', '.java', 'cs', 'js', 'cpp', 'php']\n",
    "\n",
    "indices = ['a', 'b', 'c', 'd', 'e', 'f']\n",
    "\n",
    "datos = {'lenguaje': lenguajes, 'agnio_creacion': agnio_creacion, 'interpretado': interpretado, 'extesion': extension}\n"
   ]
  },
  {
   "cell_type": "code",
   "execution_count": 30,
   "metadata": {},
   "outputs": [
    {
     "name": "stdout",
     "output_type": "stream",
     "text": [
      "<class 'pandas.core.frame.DataFrame'>\n",
      "Index: 6 entries, a to f\n",
      "Data columns (total 4 columns):\n",
      " #   Column          Non-Null Count  Dtype \n",
      "---  ------          --------------  ----- \n",
      " 0   lenguaje        6 non-null      object\n",
      " 1   agnio_creacion  6 non-null      int64 \n",
      " 2   interpretado    6 non-null      bool  \n",
      " 3   extension       6 non-null      object\n",
      "dtypes: bool(1), int64(1), object(2)\n",
      "memory usage: 198.0+ bytes\n",
      "None\n"
     ]
    }
   ],
   "source": [
    "# Crear un DataFrame a partir de los datos\n",
    "lenguajes = ['Python', 'Java', 'C#', 'JavaScript', 'C++', 'PHP']\n",
    "agnio_creacion = [1990, 1995, 2013, 1995, 1985, 1995]\n",
    "interpretado = [True, False, False, True, False, True]\n",
    "extension = ['.py', '.java', 'cs', 'js', 'cpp', 'php']\n",
    "\n",
    "indices = ['a', 'b', 'c', 'd', 'e', 'f']\n",
    "\n",
    "datos = {'lenguaje': lenguajes, 'agnio_creacion': agnio_creacion, 'interpretado': interpretado, 'extension': extension}\n",
    "df = pd.DataFrame(datos, index=indices)\n",
    "\n",
    "# Mostrar un reporte con la información básica del DataFrame\n",
    "print(df.info())"
   ]
  },
  {
   "cell_type": "markdown",
   "metadata": {},
   "source": [
    "27. Obtener las primeras n filas de un objeto DataFrame.\n",
    "\n",
    "``` python\n",
    "nombre = ['Oliva', 'Daniela', 'Juan', 'Germán', 'Edward', 'Alex', 'Julio', \n",
    "          'Edgar', 'Angie', 'Irlesa']\n",
    "puntaje = [11.5, 8, 15.5, np.nan, 8, 19, 13.5, np.nan, 8, 18]\n",
    "intentos = [1, 3, 2, 3, 2, 3, 1, 1, 2, 1]\n",
    "califico = ['Sí', 'No', 'Sí', 'No', 'No', 'Sí', 'Sí', 'No', 'No', 'Sí']\n",
    "\n",
    "indices = ['a', 'b', 'c', 'd', 'e', 'f', 'g', 'h', 'i', 'j']\n",
    "\n",
    "jugadores = {'nombre': nombre, 'puntaje': puntaje, 'intentos': intentos, \n",
    "             'califico': califico}"
   ]
  },
  {
   "cell_type": "code",
   "execution_count": 31,
   "metadata": {},
   "outputs": [
    {
     "name": "stdout",
     "output_type": "stream",
     "text": [
      "    nombre  puntaje  intentos califico\n",
      "a    Oliva     11.5         1       Sí\n",
      "b  Daniela      8.0         3       No\n",
      "c     Juan     15.5         2       Sí\n"
     ]
    }
   ],
   "source": [
    "# Crear un DataFrame a partir de los datos\n",
    "nombre = ['Oliva', 'Daniela', 'Juan', 'Germán', 'Edward', 'Alex', 'Julio', \n",
    "          'Edgar', 'Angie', 'Irlesa']\n",
    "puntaje = [11.5, 8, 15.5, np.nan, 8, 19, 13.5, np.nan, 8, 18]\n",
    "intentos = [1, 3, 2, 3, 2, 3, 1, 1, 2, 1]\n",
    "califico = ['Sí', 'No', 'Sí', 'No', 'No', 'Sí', 'Sí', 'No', 'No', 'Sí']\n",
    "\n",
    "indices = ['a', 'b', 'c', 'd', 'e', 'f', 'g', 'h', 'i', 'j']\n",
    "\n",
    "jugadores = {'nombre': nombre, 'puntaje': puntaje, 'intentos': intentos, \n",
    "             'califico': califico}\n",
    "\n",
    "df = pd.DataFrame(jugadores, index=indices)\n",
    "\n",
    "# Obtener las primeras 3 filas del DataFrame\n",
    "primeras_filas = df.head(3)\n",
    "\n",
    "# Imprimir las primeras filas\n",
    "print(primeras_filas)"
   ]
  },
  {
   "cell_type": "markdown",
   "metadata": {},
   "source": [
    "28. Obtener las últimas n filas de un objeto DataFrame.\n",
    "``` python\n",
    "nombre = ['Oliva', 'Daniela', 'Juan', 'Germán', 'Edward', 'Alex', 'Julio', \n",
    "          'Edgar', 'Angie', 'Irlesa']\n",
    "puntaje = [11.5, 8, 15.5, np.nan, 8, 19, 13.5, np.nan, 8, 18]\n",
    "intentos = [1, 3, 2, 3, 2, 3, 1, 1, 2, 1]\n",
    "califico = ['Sí', 'No', 'Sí', 'No', 'No', 'Sí', 'Sí', 'No', 'No', 'Sí']\n",
    "\n",
    "indices = ['a', 'b', 'c', 'd', 'e', 'f', 'g', 'h', 'i', 'j']\n",
    "\n",
    "jugadores = {'nombre': nombre, 'puntaje': puntaje, 'intentos': intentos, \n",
    "             'califico': califico}\n",
    "\n",
    "df = pd.DataFrame(data=jugadores, index=indices)"
   ]
  },
  {
   "cell_type": "code",
   "execution_count": 32,
   "metadata": {},
   "outputs": [
    {
     "name": "stdout",
     "output_type": "stream",
     "text": [
      "   nombre  puntaje  intentos califico\n",
      "h   Edgar      NaN         1       No\n",
      "i   Angie      8.0         2       No\n",
      "j  Irlesa     18.0         1       Sí\n"
     ]
    }
   ],
   "source": [
    "# Crear un DataFrame a partir de los datos\n",
    "nombre = ['Oliva', 'Daniela', 'Juan', 'Germán', 'Edward', 'Alex', 'Julio', \n",
    "          'Edgar', 'Angie', 'Irlesa']\n",
    "puntaje = [11.5, 8, 15.5, np.nan, 8, 19, 13.5, np.nan, 8, 18]\n",
    "intentos = [1, 3, 2, 3, 2, 3, 1, 1, 2, 1]\n",
    "califico = ['Sí', 'No', 'Sí', 'No', 'No', 'Sí', 'Sí', 'No', 'No', 'Sí']\n",
    "\n",
    "indices = ['a', 'b', 'c', 'd', 'e', 'f', 'g', 'h', 'i', 'j']\n",
    "\n",
    "jugadores = {'nombre': nombre, 'puntaje': puntaje, 'intentos': intentos, \n",
    "             'califico': califico}\n",
    "\n",
    "df = pd.DataFrame(jugadores, index=indices)\n",
    "\n",
    "# Obtener las últimas 3 filas del DataFrame\n",
    "ultimas_filas = df.tail(3)\n",
    "\n",
    "# Imprimir las últimas filas\n",
    "print(ultimas_filas)\n"
   ]
  },
  {
   "cell_type": "markdown",
   "metadata": {},
   "source": [
    "29. Seleccionar filas y columnas específicas de un DataFrame con iloc.\n",
    "\n",
    "``` python\n",
    "\n",
    "nombre = ['Oliva', 'Daniela', 'Juan', 'Germán', 'Edward', 'Alex', 'Julio', \n",
    "          'Edgar', 'Angie', 'Irlesa']\n",
    "puntaje = [11.5, 8, 15.5, np.nan, 8, 19, 13.5, np.nan, 8, 18]\n",
    "intentos = [1, 3, 2, 3, 2, 3, 1, 1, 2, 1]\n",
    "califico = ['Sí', 'No', 'Sí', 'No', 'No', 'Sí', 'Sí', 'No', 'No', 'Sí']\n",
    "\n",
    "indices = ['a', 'b', 'c', 'd', 'e', 'f', 'g', 'h', 'i', 'j']\n",
    "\n",
    "jugadores = {'nombre': nombre, 'puntaje': puntaje, 'intentos': intentos, \n",
    "             'califico': califico}\n",
    "\n",
    "             "
   ]
  },
  {
   "cell_type": "code",
   "execution_count": 33,
   "metadata": {},
   "outputs": [
    {
     "name": "stdout",
     "output_type": "stream",
     "text": [
      "    nombre  intentos\n",
      "b  Daniela         3\n",
      "d   Germán         3\n",
      "f     Alex         3\n"
     ]
    }
   ],
   "source": [
    "# Crear un DataFrame a partir de los datos\n",
    "nombre = ['Oliva', 'Daniela', 'Juan', 'Germán', 'Edward', 'Alex', 'Julio', \n",
    "          'Edgar', 'Angie', 'Irlesa']\n",
    "puntaje = [11.5, 8, 15.5, np.nan, 8, 19, 13.5, np.nan, 8, 18]\n",
    "intentos = [1, 3, 2, 3, 2, 3, 1, 1, 2, 1]\n",
    "califico = ['Sí', 'No', 'Sí', 'No', 'No', 'Sí', 'Sí', 'No', 'No', 'Sí']\n",
    "\n",
    "indices = ['a', 'b', 'c', 'd', 'e', 'f', 'g', 'h', 'i', 'j']\n",
    "\n",
    "jugadores = {'nombre': nombre, 'puntaje': puntaje, 'intentos': intentos, \n",
    "             'califico': califico}\n",
    "\n",
    "df = pd.DataFrame(jugadores, index=indices)\n",
    "\n",
    "# Seleccionar filas 'b', 'd' y 'f', y columnas en las posiciones 0 y 2\n",
    "resultado = df.iloc[[1, 3, 5], [0, 2]]\n",
    "\n",
    "# Imprimir el resultado\n",
    "print(resultado)"
   ]
  },
  {
   "cell_type": "markdown",
   "metadata": {},
   "source": [
    "30. Obtener la dimensión, el tamaño, y la forma de un objeto DataFrame.\n",
    "\n",
    "datos = {'X': [1, 2, 3, 4, 5], 'Y': [5, 4, 3, 2, 1], 'Z': [2, 3, 5, 7, 11]}\n",
    "\n"
   ]
  },
  {
   "cell_type": "code",
   "execution_count": 34,
   "metadata": {},
   "outputs": [
    {
     "name": "stdout",
     "output_type": "stream",
     "text": [
      "Dimensión: (5, 3)\n",
      "Tamaño: 15\n",
      "Forma: (5, 3)\n"
     ]
    }
   ],
   "source": [
    "# Crear un DataFrame a partir de los datos\n",
    "datos = {'X': [1, 2, 3, 4, 5], 'Y': [5, 4, 3, 2, 1], 'Z': [2, 3, 5, 7, 11]}\n",
    "df = pd.DataFrame(datos)\n",
    "\n",
    "# Obtener la dimensión del DataFrame (número de filas y columnas)\n",
    "dimension = df.shape\n",
    "\n",
    "# Obtener el tamaño del DataFrame (número total de elementos)\n",
    "tamano = df.size\n",
    "\n",
    "# Obtener la forma del DataFrame (número de filas y columnas como tupla)\n",
    "forma = df.shape\n",
    "\n",
    "# Imprimir los resultados\n",
    "print(\"Dimensión:\", dimension)\n",
    "print(\"Tamaño:\", tamano)\n",
    "print(\"Forma:\", forma)"
   ]
  },
  {
   "cell_type": "markdown",
   "metadata": {},
   "source": [
    "31. Seleccionar los registros que tienen un campo nulo (nan).\n",
    "\n",
    "``` python\n",
    "\n",
    "nombre = ['Oliva', 'Daniela', 'Juan', 'Germán', 'Edward', 'Alex', 'Julio', \n",
    "          'Edgar', 'Angie', 'Irlesa']\n",
    "puntaje = [11.5, 8, 15.5, np.nan, 8, 19, 13.5, np.nan, 8, 18]\n",
    "intentos = [1, 3, 2, 3, 2, 3, 1, 1, 2, 1]\n",
    "califico = ['Sí', 'No', 'Sí', 'No', 'No', 'Sí', 'Sí', 'No', 'No', 'Sí']\n",
    "\n",
    "indices = ['a', 'b', 'c', 'd', 'e', 'f', 'g', 'h', 'i', 'j']\n",
    "\n",
    "jugadores = {'nombre': nombre, 'puntaje': puntaje, 'intentos': intentos, \n",
    "             'califico': califico}"
   ]
  },
  {
   "cell_type": "code",
   "execution_count": 35,
   "metadata": {},
   "outputs": [
    {
     "name": "stdout",
     "output_type": "stream",
     "text": [
      "   nombre  puntaje  intentos califico\n",
      "d  Germán      NaN         3       No\n",
      "h   Edgar      NaN         1       No\n"
     ]
    }
   ],
   "source": [
    "# Crear un DataFrame a partir de los datos\n",
    "nombre = ['Oliva', 'Daniela', 'Juan', 'Germán', 'Edward', 'Alex', 'Julio', \n",
    "          'Edgar', 'Angie', 'Irlesa']\n",
    "puntaje = [11.5, 8, 15.5, np.nan, 8, 19, 13.5, np.nan, 8, 18]\n",
    "intentos = [1, 3, 2, 3, 2, 3, 1, 1, 2, 1]\n",
    "califico = ['Sí', 'No', 'Sí', 'No', 'No', 'Sí', 'Sí', 'No', 'No', 'Sí']\n",
    "\n",
    "indices = ['a', 'b', 'c', 'd', 'e', 'f', 'g', 'h', 'i', 'j']\n",
    "\n",
    "jugadores = {'nombre': nombre, 'puntaje': puntaje, 'intentos': intentos, \n",
    "             'califico': califico}\n",
    "\n",
    "df = pd.DataFrame(jugadores, index=indices)\n",
    "\n",
    "# Seleccionar los registros que tienen al menos un campo nulo\n",
    "registros_nulos = df[df.isnull().any(axis=1)]\n",
    "\n",
    "# Imprimir los registros nulos\n",
    "print(registros_nulos)"
   ]
  },
  {
   "cell_type": "markdown",
   "metadata": {},
   "source": [
    "32. Seleccionar registros donde los valores de una columna estén en un rango.\n",
    "\n",
    "```python\n",
    "\n",
    "nombre = ['Oliva', 'Daniela', 'Juan', 'Germán', 'Edward', 'Alex', 'Julio', \n",
    "          'Edgar', 'Angie', 'Irlesa']\n",
    "puntaje = [11.5, 8, 15.5, np.nan, 8, 19, 13.5, np.nan, 8, 18]\n",
    "intentos = [1, 3, 2, 3, 2, 3, 1, 1, 2, 1]\n",
    "califico = ['Sí', 'No', 'Sí', 'No', 'No', 'Sí', 'Sí', 'No', 'No', 'Sí']\n",
    "\n",
    "indices = ['a', 'b', 'c', 'd', 'e', 'f', 'g', 'h', 'i', 'j']\n",
    "\n",
    "jugadores = {'nombre': nombre, 'puntaje': puntaje, 'intentos': intentos, \n",
    "             'califico': califico}"
   ]
  },
  {
   "cell_type": "code",
   "execution_count": 37,
   "metadata": {},
   "outputs": [
    {
     "name": "stdout",
     "output_type": "stream",
     "text": [
      "  nombre  puntaje  intentos califico\n",
      "a  Oliva     11.5         1       Sí\n",
      "g  Julio     13.5         1       Sí\n"
     ]
    }
   ],
   "source": [
    "# Crear un DataFrame a partir de los datos\n",
    "nombre = ['Oliva', 'Daniela', 'Juan', 'Germán', 'Edward', 'Alex', 'Julio', \n",
    "          'Edgar', 'Angie', 'Irlesa']\n",
    "puntaje = [11.5, 8, 15.5, np.nan, 8, 19, 13.5, np.nan, 8, 18]\n",
    "intentos = [1, 3, 2, 3, 2, 3, 1, 1, 2, 1]\n",
    "califico = ['Sí', 'No', 'Sí', 'No', 'No', 'Sí', 'Sí', 'No', 'No', 'Sí']\n",
    "\n",
    "indices = ['a', 'b', 'c', 'd', 'e', 'f', 'g', 'h', 'i', 'j']\n",
    "\n",
    "jugadores = {'nombre': nombre, 'puntaje': puntaje, 'intentos': intentos, \n",
    "             'califico': califico}\n",
    "\n",
    "df = pd.DataFrame(jugadores, index=indices)\n",
    "\n",
    "# Seleccionar los registros donde el puntaje está entre 10 y 15\n",
    "registros_rango = df.loc[(df['puntaje'] >= 10) & (df['puntaje'] <= 15)]\n",
    "\n",
    "# Imprimir los registros en el rango de puntaje\n",
    "print(registros_rango)"
   ]
  },
  {
   "cell_type": "markdown",
   "metadata": {},
   "source": [
    "33. Determinar los datos en un DataFrame que son nulos (NaN).\n",
    "\n",
    "```python\n",
    "nombres = ['Edward', 'Daniela', 'Germán']\n",
    "edades = [5, 6, np.nan]\n",
    "fecha_nacimiento = [pd.Timestamp('1990-01-03'), None, np.nan]\n",
    "\n",
    "personas = {'nombre': nombres, 'edad': edades, 'fecha_nacimiento': fecha_nacimiento}"
   ]
  },
  {
   "cell_type": "code",
   "execution_count": 38,
   "metadata": {},
   "outputs": [
    {
     "name": "stdout",
     "output_type": "stream",
     "text": [
      "   nombre   edad  fecha_nacimiento\n",
      "0   False  False             False\n",
      "1   False  False              True\n",
      "2   False   True              True\n"
     ]
    }
   ],
   "source": [
    "# Crear un DataFrame a partir de los datos\n",
    "nombres = ['Edward', 'Daniela', 'Germán']\n",
    "edades = [5, 6, np.nan]\n",
    "fecha_nacimiento = [pd.Timestamp('1990-01-03'), None, np.nan]\n",
    "\n",
    "personas = {'nombre': nombres, 'edad': edades, 'fecha_nacimiento': fecha_nacimiento}\n",
    "\n",
    "df = pd.DataFrame(personas)\n",
    "\n",
    "# Determinar los datos nulos en el DataFrame\n",
    "datos_nulos = df.isnull()\n",
    "\n",
    "# Imprimir los datos nulos\n",
    "print(datos_nulos)"
   ]
  },
  {
   "cell_type": "markdown",
   "metadata": {},
   "source": [
    "34. \n",
    "* Sumar los valores de una columna de un DataFrame con sum.\n",
    "* Calcular el promedio de los valores de una columna de un DataFrame.\n",
    "\n",
    "```python\n",
    "\n",
    "nombre = ['Oliva', 'Daniela', 'Juan', 'Germán', 'Edward', 'Alex', 'Julio', \n",
    "          'Edgar', 'Angie', 'Irlesa']\n",
    "puntaje = [11.5, 8, 15.5, np.nan, 8, 19, 13.5, np.nan, 8, 18]\n",
    "intentos = [1, 3, 2, 3, 2, 3, 1, 1, 2, 1]\n",
    "califico = ['Sí', 'No', 'Sí', 'No', 'No', 'Sí', 'Sí', 'No', 'No', 'Sí']\n",
    "\n",
    "indices = ['a', 'b', 'c', 'd', 'e', 'f', 'g', 'h', 'i', 'j']\n",
    "\n",
    "jugadores = {'nombre': nombre, 'puntaje': puntaje, 'intentos': intentos, \n",
    "             'califico': califico}"
   ]
  },
  {
   "cell_type": "code",
   "execution_count": 39,
   "metadata": {},
   "outputs": [
    {
     "name": "stdout",
     "output_type": "stream",
     "text": [
      "Suma de puntajes: 101.5\n",
      "Promedio de puntajes: 12.6875\n"
     ]
    }
   ],
   "source": [
    "# Crear un DataFrame a partir de los datos\n",
    "nombre = ['Oliva', 'Daniela', 'Juan', 'Germán', 'Edward', 'Alex', 'Julio', \n",
    "          'Edgar', 'Angie', 'Irlesa']\n",
    "puntaje = [11.5, 8, 15.5, np.nan, 8, 19, 13.5, np.nan, 8, 18]\n",
    "intentos = [1, 3, 2, 3, 2, 3, 1, 1, 2, 1]\n",
    "califico = ['Sí', 'No', 'Sí', 'No', 'No', 'Sí', 'Sí', 'No', 'No', 'Sí']\n",
    "\n",
    "indices = ['a', 'b', 'c', 'd', 'e', 'f', 'g', 'h', 'i', 'j']\n",
    "\n",
    "jugadores = {'nombre': nombre, 'puntaje': puntaje, 'intentos': intentos, \n",
    "             'califico': califico}\n",
    "\n",
    "df = pd.DataFrame(jugadores, index=indices)\n",
    "\n",
    "# Sumar los valores de la columna 'puntaje'\n",
    "suma_puntaje = df['puntaje'].sum()\n",
    "\n",
    "# Calcular el promedio de los valores de la columna 'puntaje'\n",
    "promedio_puntaje = df['puntaje'].mean()\n",
    "\n",
    "# Imprimir la suma y el promedio\n",
    "print(\"Suma de puntajes:\", suma_puntaje)\n",
    "print(\"Promedio de puntajes:\", promedio_puntaje)"
   ]
  },
  {
   "cell_type": "markdown",
   "metadata": {},
   "source": [
    "35. Insertar una nueva columna en una posición arbitraria con la función insert.\n",
    "\n",
    "```python\n",
    "datos = {'W': [1, 2, 3, 4, 5], 'Y': [5, 4, 3, 2, 1], 'Z': [2, 3, 5, 7, 11]}\n",
    "\n",
    "indices = ['a', 'b', 'c', 'd', 'e']\n",
    "\n",
    "df = pd.DataFrame(data=datos, index=indices)"
   ]
  },
  {
   "cell_type": "code",
   "execution_count": 40,
   "metadata": {},
   "outputs": [
    {
     "name": "stdout",
     "output_type": "stream",
     "text": [
      "   W   X  Y   Z\n",
      "a  1  10  5   2\n",
      "b  2  20  4   3\n",
      "c  3  30  3   5\n",
      "d  4  40  2   7\n",
      "e  5  50  1  11\n"
     ]
    }
   ],
   "source": [
    "# Crear un DataFrame a partir de los datos\n",
    "datos = {'W': [1, 2, 3, 4, 5], 'Y': [5, 4, 3, 2, 1], 'Z': [2, 3, 5, 7, 11]}\n",
    "indices = ['a', 'b', 'c', 'd', 'e']\n",
    "df = pd.DataFrame(data=datos, index=indices)\n",
    "\n",
    "# Insertar una nueva columna 'X' en la segunda posición\n",
    "posicion = 1  # La segunda posición (0-indexed)\n",
    "nueva_columna = [10, 20, 30, 40, 50]  # Valores para la nueva columna\n",
    "nombre_columna = 'X'\n",
    "df.insert(posicion, nombre_columna, nueva_columna)\n",
    "\n",
    "# Imprimir el DataFrame resultante\n",
    "print(df)"
   ]
  },
  {
   "cell_type": "markdown",
   "metadata": {},
   "source": [
    "36. Recorrer cada una de las columnas de un objeto DataFrame con items.\n",
    "\n",
    "```python\n",
    "datos = {'X': [1, 2, 3, 4, 5], 'Y': [5, 4, 3, 2, 1], 'Z': [2, 3, 5, 7, 11]}\n",
    "\n",
    "indices = ['a', 'b', 'c', 'd', 'e']"
   ]
  },
  {
   "cell_type": "code",
   "execution_count": 41,
   "metadata": {},
   "outputs": [
    {
     "name": "stdout",
     "output_type": "stream",
     "text": [
      "Columna 'X':\n",
      "a    1\n",
      "b    2\n",
      "c    3\n",
      "d    4\n",
      "e    5\n",
      "Name: X, dtype: int64\n",
      "\n",
      "Columna 'Y':\n",
      "a    5\n",
      "b    4\n",
      "c    3\n",
      "d    2\n",
      "e    1\n",
      "Name: Y, dtype: int64\n",
      "\n",
      "Columna 'Z':\n",
      "a     2\n",
      "b     3\n",
      "c     5\n",
      "d     7\n",
      "e    11\n",
      "Name: Z, dtype: int64\n",
      "\n"
     ]
    }
   ],
   "source": [
    "# Crear un DataFrame a partir de los datos\n",
    "datos = {'X': [1, 2, 3, 4, 5], 'Y': [5, 4, 3, 2, 1], 'Z': [2, 3, 5, 7, 11]}\n",
    "indices = ['a', 'b', 'c', 'd', 'e']\n",
    "df = pd.DataFrame(data=datos, index=indices)\n",
    "\n",
    "# Recorrer cada una de las columnas del DataFrame\n",
    "for nombre_columna, columna in df.items():\n",
    "    print(f\"Columna '{nombre_columna}':\")\n",
    "    print(columna)\n",
    "    print()  # Salto de línea para separar las columnas"
   ]
  },
  {
   "cell_type": "markdown",
   "metadata": {},
   "source": [
    "37. Eliminar una fila de un DataFrame con la función drop.\n",
    "\n",
    "```python\n",
    "nombre = ['Oliva', 'Daniela', 'Juan', 'Germán', 'Edward', 'Alex', 'Julio', \n",
    "          'Edgar', 'Angie', 'Irlesa']\n",
    "puntaje = [11.5, 8, 15.5, np.nan, 8, 19, 13.5, np.nan, 8, 18]\n",
    "intentos = [1, 3, 2, 3, 2, 3, 1, 1, 2, 1]\n",
    "califico = ['Sí', 'No', 'Sí', 'No', 'No', 'Sí', 'Sí', 'No', 'No', 'Sí']\n",
    "\n",
    "indices = ['a', 'b', 'c', 'd', 'e', 'f', 'g', 'h', 'i', 'j']\n",
    "\n",
    "jugadores = {'nombre': nombre, 'puntaje': puntaje, 'intentos': intentos, \n",
    "             'califico': califico}\n",
    "\n",
    "             "
   ]
  },
  {
   "cell_type": "code",
   "execution_count": 42,
   "metadata": {},
   "outputs": [
    {
     "name": "stdout",
     "output_type": "stream",
     "text": [
      "    nombre  puntaje  intentos califico\n",
      "a    Oliva     11.5         1       Sí\n",
      "b  Daniela      8.0         3       No\n",
      "c     Juan     15.5         2       Sí\n",
      "e   Edward      8.0         2       No\n",
      "f     Alex     19.0         3       Sí\n",
      "g    Julio     13.5         1       Sí\n",
      "h    Edgar      NaN         1       No\n",
      "i    Angie      8.0         2       No\n",
      "j   Irlesa     18.0         1       Sí\n"
     ]
    }
   ],
   "source": [
    "# Crear un DataFrame a partir de los datos\n",
    "nombre = ['Oliva', 'Daniela', 'Juan', 'Germán', 'Edward', 'Alex', 'Julio', \n",
    "          'Edgar', 'Angie', 'Irlesa']\n",
    "puntaje = [11.5, 8, 15.5, np.nan, 8, 19, 13.5, np.nan, 8, 18]\n",
    "intentos = [1, 3, 2, 3, 2, 3, 1, 1, 2, 1]\n",
    "califico = ['Sí', 'No', 'Sí', 'No', 'No', 'Sí', 'Sí', 'No', 'No', 'Sí']\n",
    "\n",
    "indices = ['a', 'b', 'c', 'd', 'e', 'f', 'g', 'h', 'i', 'j']\n",
    "\n",
    "jugadores = {'nombre': nombre, 'puntaje': puntaje, 'intentos': intentos, \n",
    "             'califico': califico}\n",
    "\n",
    "df = pd.DataFrame(jugadores, index=indices)\n",
    "\n",
    "# Eliminar la fila con índice 'd'\n",
    "df = df.drop('d', axis=0)\n",
    "\n",
    "# Imprimir el DataFrame resultante\n",
    "print(df)"
   ]
  },
  {
   "cell_type": "markdown",
   "metadata": {},
   "source": [
    "38. Ordenar en modo descendente un DataFrame por diferentes columnas.\n",
    "\n",
    "```python\n",
    "nombre = ['Oliva', 'Daniela', 'Juan', 'Germán', 'Edward', 'Alex', 'Julio', \n",
    "          'Edgar', 'Angie', 'Irlesa']\n",
    "puntaje = [11.5, 8, 15.5, np.nan, 8, 19, 13.5, np.nan, 8, 18]\n",
    "intentos = [1, 3, 2, 3, 2, 3, 1, 1, 2, 1]\n",
    "califico = ['Sí', 'No', 'Sí', 'No', 'No', 'Sí', 'Sí', 'No', 'No', 'Sí']\n",
    "\n",
    "indices = ['a', 'b', 'c', 'd', 'e', 'f', 'g', 'h', 'i', 'j']\n",
    "\n",
    "jugadores = {'nombre': nombre, 'puntaje': puntaje, 'intentos': intentos, \n",
    "             'califico': califico}"
   ]
  },
  {
   "cell_type": "code",
   "execution_count": 43,
   "metadata": {},
   "outputs": [
    {
     "name": "stdout",
     "output_type": "stream",
     "text": [
      "    nombre  puntaje  intentos califico\n",
      "f     Alex     19.0         3       Sí\n",
      "j   Irlesa     18.0         1       Sí\n",
      "c     Juan     15.5         2       Sí\n",
      "g    Julio     13.5         1       Sí\n",
      "a    Oliva     11.5         1       Sí\n",
      "e   Edward      8.0         2       No\n",
      "b  Daniela      8.0         3       No\n",
      "i    Angie      8.0         2       No\n",
      "d   Germán      NaN         3       No\n",
      "h    Edgar      NaN         1       No\n"
     ]
    }
   ],
   "source": [
    "# Crear un DataFrame a partir de los datos\n",
    "nombre = ['Oliva', 'Daniela', 'Juan', 'Germán', 'Edward', 'Alex', 'Julio', \n",
    "          'Edgar', 'Angie', 'Irlesa']\n",
    "puntaje = [11.5, 8, 15.5, np.nan, 8, 19, 13.5, np.nan, 8, 18]\n",
    "intentos = [1, 3, 2, 3, 2, 3, 1, 1, 2, 1]\n",
    "califico = ['Sí', 'No', 'Sí', 'No', 'No', 'Sí', 'Sí', 'No', 'No', 'Sí']\n",
    "\n",
    "indices = ['a', 'b', 'c', 'd', 'e', 'f', 'g', 'h', 'i', 'j']\n",
    "\n",
    "jugadores = {'nombre': nombre, 'puntaje': puntaje, 'intentos': intentos, \n",
    "             'califico': califico}\n",
    "\n",
    "df = pd.DataFrame(jugadores, index=indices)\n",
    "\n",
    "# Ordenar primero por la columna 'puntaje' y luego por la columna 'nombre'\n",
    "df_ordenado = df.sort_values(by=['puntaje', 'nombre'], ascending=False)\n",
    "\n",
    "# Imprimir el DataFrame ordenado\n",
    "print(df_ordenado)"
   ]
  },
  {
   "cell_type": "markdown",
   "metadata": {},
   "source": [
    "39. Reemplazar valores de una columna con la función map de un DataFrame.\n",
    "\n",
    "```python\n",
    "nombre = ['Oliva', 'Daniela', 'Juan', 'Germán', 'Edward', 'Alex', 'Julio', \n",
    "          'Edgar', 'Angie', 'Irlesa']\n",
    "puntaje = [11.5, 8, 15.5, np.nan, 8, 19, 13.5, np.nan, 8, 18]\n",
    "intentos = [1, 3, 2, 3, 2, 3, 1, 1, 2, 1]\n",
    "califico = ['Sí', 'No', 'Sí', 'No', 'No', 'Sí', 'Sí', 'No', 'No', 'Sí']\n",
    "\n",
    "indices = ['a', 'b', 'c', 'd', 'e', 'f', 'g', 'h', 'i', 'j']\n",
    "\n",
    "jugadores = {'nombre': nombre, 'puntaje': puntaje, 'intentos': intentos, \n",
    "             'califico': califico}"
   ]
  },
  {
   "cell_type": "code",
   "execution_count": 44,
   "metadata": {},
   "outputs": [
    {
     "name": "stdout",
     "output_type": "stream",
     "text": [
      "    nombre  puntaje  intentos  califico\n",
      "a    Oliva     11.5         1         1\n",
      "b  Daniela      8.0         3         0\n",
      "c     Juan     15.5         2         1\n",
      "d   Germán      NaN         3         0\n",
      "e   Edward      8.0         2         0\n",
      "f     Alex     19.0         3         1\n",
      "g    Julio     13.5         1         1\n",
      "h    Edgar      NaN         1         0\n",
      "i    Angie      8.0         2         0\n",
      "j   Irlesa     18.0         1         1\n"
     ]
    }
   ],
   "source": [
    "# Crear un DataFrame a partir de los datos\n",
    "nombre = ['Oliva', 'Daniela', 'Juan', 'Germán', 'Edward', 'Alex', 'Julio', \n",
    "          'Edgar', 'Angie', 'Irlesa']\n",
    "puntaje = [11.5, 8, 15.5, np.nan, 8, 19, 13.5, np.nan, 8, 18]\n",
    "intentos = [1, 3, 2, 3, 2, 3, 1, 1, 2, 1]\n",
    "califico = ['Sí', 'No', 'Sí', 'No', 'No', 'Sí', 'Sí', 'No', 'No', 'Sí']\n",
    "\n",
    "indices = ['a', 'b', 'c', 'd', 'e', 'f', 'g', 'h', 'i', 'j']\n",
    "\n",
    "jugadores = {'nombre': nombre, 'puntaje': puntaje, 'intentos': intentos, \n",
    "             'califico': califico}\n",
    "\n",
    "df = pd.DataFrame(jugadores, index=indices)\n",
    "\n",
    "# Crear un diccionario para mapear 'Sí' a 1 y 'No' a 0\n",
    "mapeo = {'Sí': 1, 'No': 0}\n",
    "\n",
    "# Reemplazar los valores en la columna 'califico' utilizando map\n",
    "df['califico'] = df['califico'].map(mapeo)\n",
    "\n",
    "# Imprimir el DataFrame con los valores reemplazados\n",
    "print(df)"
   ]
  },
  {
   "cell_type": "markdown",
   "metadata": {},
   "source": [
    "40. Reemplazar valores que no cumplan una condición a través de la función DataFrame.where.\n",
    "\n",
    "```python\n",
    "datos = {'X': [1, 2, 3, 4, 5], 'Y': [5, 4, 3, 2, 1], 'Z': [2, 3, 5, 7, 11]}\n",
    "\n",
    "indices = ['a', 'b', 'c', 'd', 'e']\n",
    "\n"
   ]
  },
  {
   "cell_type": "code",
   "execution_count": 46,
   "metadata": {},
   "outputs": [
    {
     "name": "stdout",
     "output_type": "stream",
     "text": [
      "     X  Y   Z\n",
      "a  1.0  5   2\n",
      "b  2.0  4   3\n",
      "c  3.0  3   5\n",
      "d  NaN  2   7\n",
      "e  NaN  1  11\n"
     ]
    }
   ],
   "source": [
    "import pandas as pd\n",
    "import numpy as np\n",
    "\n",
    "# Crear un DataFrame a partir de los datos\n",
    "datos = {'X': [1, 2, 3, 4, 5], 'Y': [5, 4, 3, 2, 1], 'Z': [2, 3, 5, 7, 11]}\n",
    "indices = ['a', 'b', 'c', 'd', 'e']\n",
    "df = pd.DataFrame(datos, index=indices)\n",
    "\n",
    "# Reemplazar los valores de la columna 'X' que son mayores que 3 por NaN\n",
    "df['X'] = df['X'].where(df['X'] <= 3, other=np.nan)\n",
    "\n",
    "# Imprimir el DataFrame con los valores reemplazados\n",
    "print(df)\n"
   ]
  },
  {
   "cell_type": "markdown",
   "metadata": {},
   "source": [
    "41. Renombrar las columnas de un objeto DataFrame.\n",
    "\n",
    "```python\n",
    "datos = {'Columna1': [1, 2, 3, 4, 5], 'Columna2': [5, 4, 3, 2, 1], \n",
    "         'Columna3': [2, 3, 5, 7, 11]}\n",
    "\n",
    "indices = ['a', 'b', 'c', 'd', 'e']"
   ]
  },
  {
   "cell_type": "code",
   "execution_count": 48,
   "metadata": {},
   "outputs": [
    {
     "name": "stdout",
     "output_type": "stream",
     "text": [
      "   A  B   C\n",
      "a  1  5   2\n",
      "b  2  4   3\n",
      "c  3  3   5\n",
      "d  4  2   7\n",
      "e  5  1  11\n"
     ]
    }
   ],
   "source": [
    "import pandas as pd\n",
    "# Crear un DataFrame a partir de los datos\n",
    "datos = {'Columna1': [1, 2, 3, 4, 5], 'Columna2': [5, 4, 3, 2, 1], \n",
    "         'Columna3': [2, 3, 5, 7, 11]}\n",
    "indices = ['a', 'b', 'c', 'd', 'e']\n",
    "df = pd.DataFrame(datos, index=indices)\n",
    "\n",
    "# Renombrar las columnas\n",
    "nuevos_nombres = {'Columna1': 'A', 'Columna2': 'B', 'Columna3': 'C'}\n",
    "df = df.rename(columns=nuevos_nombres)\n",
    "\n",
    "# Imprimir el DataFrame con las columnas renombradas\n",
    "print(df)"
   ]
  },
  {
   "cell_type": "markdown",
   "metadata": {},
   "source": [
    "42. Seleccionar registros donde se cumpla una condición para los que SI calificaron.\n",
    "\n",
    "```python\n",
    "nombre = ['Oliva', 'Daniela', 'Juan', 'Germán', 'Edward', 'Alex', 'Julio', \n",
    "          'Edgar', 'Angie', 'Irlesa']\n",
    "puntaje = [11.5, 8, 15.5, np.nan, 8, 19, 13.5, np.nan, 8, 18]\n",
    "intentos = [1, 3, 2, 3, 2, 3, 1, 1, 2, 1]\n",
    "califico = ['Sí', 'No', 'Sí', 'No', 'No', 'Sí', 'Sí', 'No', 'No', 'Sí']\n",
    "\n",
    "indices = ['a', 'b', 'c', 'd', 'e', 'f', 'g', 'h', 'i', 'j']\n",
    "\n",
    "jugadores = {'nombre': nombre, 'puntaje': puntaje, 'intentos': intentos, \n",
    "             'califico': califico}"
   ]
  },
  {
   "cell_type": "code",
   "execution_count": 49,
   "metadata": {},
   "outputs": [
    {
     "name": "stdout",
     "output_type": "stream",
     "text": [
      "   nombre  puntaje  intentos califico\n",
      "a   Oliva     11.5         1       Sí\n",
      "c    Juan     15.5         2       Sí\n",
      "f    Alex     19.0         3       Sí\n",
      "g   Julio     13.5         1       Sí\n",
      "j  Irlesa     18.0         1       Sí\n"
     ]
    }
   ],
   "source": [
    "import pandas as pd\n",
    "import numpy as np\n",
    "\n",
    "nombre = ['Oliva', 'Daniela', 'Juan', 'Germán', 'Edward', 'Alex', 'Julio', \n",
    "          'Edgar', 'Angie', 'Irlesa']\n",
    "puntaje = [11.5, 8, 15.5, np.nan, 8, 19, 13.5, np.nan, 8, 18]\n",
    "intentos = [1, 3, 2, 3, 2, 3, 1, 1, 2, 1]\n",
    "califico = ['Sí', 'No', 'Sí', 'No', 'No', 'Sí', 'Sí', 'No', 'No', 'Sí']\n",
    "\n",
    "indices = ['a', 'b', 'c', 'd', 'e', 'f', 'g', 'h', 'i', 'j']\n",
    "\n",
    "jugadores = {'nombre': nombre, 'puntaje': puntaje, 'intentos': intentos, \n",
    "             'califico': califico}\n",
    "\n",
    "df = pd.DataFrame(jugadores, index=indices)\n",
    "\n",
    "# Seleccionar registros donde califico es 'Sí'\n",
    "resultados_si = df.loc[df['califico'] == 'Sí']\n",
    "\n",
    "# Imprimir los resultados\n",
    "print(resultados_si)"
   ]
  },
  {
   "cell_type": "markdown",
   "metadata": {},
   "source": [
    "43. Usar operadores relacionales para comparar elementos de objetos DataFrame.\n",
    "\n",
    "datos_1 = {'X': [1, 2, 3, 4, 5], 'Y': [5, 4, 3, 2, 1], 'Z': [2, 3, 5, 7, 11]}\n",
    "\n",
    "datos_2 = {'X': [8, 9, 3, 2, 1], 'Y': [9, 2, 0, 1, 1], 'Z': [2, 4, 13, 2, 11]}\n"
   ]
  },
  {
   "cell_type": "code",
   "execution_count": 50,
   "metadata": {},
   "outputs": [
    {
     "name": "stdout",
     "output_type": "stream",
     "text": [
      "       X      Y      Z\n",
      "0  False  False  False\n",
      "1  False   True  False\n",
      "2  False   True  False\n",
      "3   True   True   True\n",
      "4   True  False  False\n"
     ]
    }
   ],
   "source": [
    "import pandas as pd\n",
    "\n",
    "datos_1 = {'X': [1, 2, 3, 4, 5], 'Y': [5, 4, 3, 2, 1], 'Z': [2, 3, 5, 7, 11]}\n",
    "datos_2 = {'X': [8, 9, 3, 2, 1], 'Y': [9, 2, 0, 1, 1], 'Z': [2, 4, 13, 2, 11]}\n",
    "\n",
    "df1 = pd.DataFrame(datos_1)\n",
    "df2 = pd.DataFrame(datos_2)\n",
    "\n",
    "# Comparar elementos de los DataFrames utilizando operadores relacionales\n",
    "comparacion = df1 > df2\n",
    "\n",
    "# Imprimir la comparación\n",
    "print(comparacion)"
   ]
  },
  {
   "cell_type": "markdown",
   "metadata": {},
   "source": [
    "44. Agregar una nueva fila a una DataFrame con el método append.\n",
    "\n",
    "datos = {'X': [1, 2, 3, 4, 5], 'Y': [5, 4, 3, 2, 1], 'Z': [2, 3, 5, 7, 11]}\n"
   ]
  },
  {
   "cell_type": "code",
   "execution_count": 55,
   "metadata": {},
   "outputs": [
    {
     "name": "stdout",
     "output_type": "stream",
     "text": [
      "   X  Y   Z\n",
      "0  1  5   2\n",
      "1  2  4   3\n",
      "2  3  3   5\n",
      "3  4  2   7\n",
      "4  5  1  11\n",
      "5  6  0   4\n"
     ]
    }
   ],
   "source": [
    "import pandas as pd\n",
    "\n",
    "# DataFrame existente\n",
    "datos = {'X': [1, 2, 3, 4, 5], 'Y': [5, 4, 3, 2, 1], 'Z': [2, 3, 5, 7, 11]}\n",
    "df = pd.DataFrame(datos)\n",
    "\n",
    "# Nueva fila que deseas agregar\n",
    "nueva_fila = {'X': 6, 'Y': 0, 'Z': 4}\n",
    "\n",
    "# Agregar la nueva fila al DataFrame existente\n",
    "df.loc[len(df)] = nueva_fila\n",
    "\n",
    "# Imprimir el DataFrame con la nueva fila agregada\n",
    "print(df)"
   ]
  }
 ],
 "metadata": {
  "kernelspec": {
   "display_name": "Python 3",
   "language": "python",
   "name": "python3"
  },
  "language_info": {
   "codemirror_mode": {
    "name": "ipython",
    "version": 3
   },
   "file_extension": ".py",
   "mimetype": "text/x-python",
   "name": "python",
   "nbconvert_exporter": "python",
   "pygments_lexer": "ipython3",
   "version": "3.10.13"
  }
 },
 "nbformat": 4,
 "nbformat_minor": 2
}
