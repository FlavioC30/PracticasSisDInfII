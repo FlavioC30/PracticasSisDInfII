{
 "cells": [
  {
   "cell_type": "markdown",
   "metadata": {},
   "source": [
    "# 01 Introduccion a NumPY"
   ]
  },
  {
   "cell_type": "markdown",
   "metadata": {},
   "source": [
    "### 1. Importar libreria numpy\n",
    "\n",
    ">>  _import numpy as np_\n"
   ]
  },
  {
   "cell_type": "code",
   "execution_count": null,
   "metadata": {},
   "outputs": [],
   "source": []
  },
  {
   "cell_type": "markdown",
   "metadata": {},
   "source": [
    "### 2. crear un array de numpy\n",
    "\n",
    "> _arr = [1,2,3,4]_ <br>\n",
    "> _numpy = np.array(arr)_"
   ]
  },
  {
   "cell_type": "code",
   "execution_count": 2,
   "metadata": {},
   "outputs": [
    {
     "data": {
      "text/plain": [
       "array([1, 2, 3, 4])"
      ]
     },
     "execution_count": 2,
     "metadata": {},
     "output_type": "execute_result"
    }
   ],
   "source": [
    "import numpy as np\n",
    "\n",
    "\n",
    "arr = [1,2,3,4]\n",
    "np.array(arr)"
   ]
  },
  {
   "cell_type": "markdown",
   "metadata": {},
   "source": [
    "### 3.  Array bidimensional\n",
    "\n",
    "> _bi_arr = [[1,2],[3,4],[5,6]]_ <br>\n",
    ">  _np.array(bi_arr)_"
   ]
  },
  {
   "cell_type": "code",
   "execution_count": 3,
   "metadata": {},
   "outputs": [
    {
     "data": {
      "text/plain": [
       "array([[1, 2],\n",
       "       [3, 4],\n",
       "       [5, 6]])"
      ]
     },
     "execution_count": 3,
     "metadata": {},
     "output_type": "execute_result"
    }
   ],
   "source": [
    "bi_arr = [[1,2],[3,4],[5,6]]\n",
    "np.array(bi_arr)"
   ]
  },
  {
   "cell_type": "markdown",
   "metadata": {},
   "source": [
    "### 4. Rangos de Numeros\n",
    "\n",
    "_print(np.arange(10))_\n",
    "\n",
    "_print(np.arange(1,10))_\n",
    "\n",
    "_print(np.arange(0,10,2))_"
   ]
  },
  {
   "cell_type": "code",
   "execution_count": null,
   "metadata": {},
   "outputs": [],
   "source": [
    "np.arange(10)"
   ]
  },
  {
   "cell_type": "markdown",
   "metadata": {},
   "source": [
    "### 5. Vector de Ceros y Unos\n",
    "\n",
    "_print(np.zeros(3))_\n",
    "\n",
    "_print(np.ones(3))_"
   ]
  },
  {
   "cell_type": "code",
   "execution_count": null,
   "metadata": {},
   "outputs": [],
   "source": []
  },
  {
   "cell_type": "markdown",
   "metadata": {},
   "source": [
    "### 6. Matriz de ceros y unos\n",
    "_print(np.ones((3,4)))_"
   ]
  },
  {
   "cell_type": "code",
   "execution_count": null,
   "metadata": {},
   "outputs": [],
   "source": []
  },
  {
   "cell_type": "markdown",
   "metadata": {},
   "source": [
    "### 7. Matriz Identidad\n",
    "_print(np.eye(5))_"
   ]
  },
  {
   "cell_type": "code",
   "execution_count": null,
   "metadata": {},
   "outputs": [],
   "source": []
  },
  {
   "cell_type": "markdown",
   "metadata": {},
   "source": [
    "### 8. Dividir Rango en n valores\n",
    "\n",
    "_print(np.linspace(0,10,3))_  <br>\n",
    "\n",
    "_print(np.linspace(0,10,20))_"
   ]
  },
  {
   "cell_type": "code",
   "execution_count": null,
   "metadata": {},
   "outputs": [],
   "source": []
  },
  {
   "cell_type": "markdown",
   "metadata": {},
   "source": [
    "### 9. Numeros aleatorios\n",
    "_print(np.random.rand(10))_\n",
    "\n",
    "_print(np.random.rand(3,4))_\n",
    "\n",
    "_print(np.random.randn(10))_\n",
    "\n",
    "_print(np.random.randn(3,4))_\n",
    "\n",
    "_print(np.random.randint(1,100,10))_\n",
    "\n",
    "_print(np.random.randint(1,100,(2,3)))_\n"
   ]
  },
  {
   "cell_type": "code",
   "execution_count": 3,
   "metadata": {},
   "outputs": [
    {
     "data": {
      "text/plain": [
       "array([0.60014806, 0.42079661, 0.02393295, 0.33433515, 0.2160542 ,\n",
       "       0.99128167, 0.72781068, 0.74325389, 0.11786988, 0.42893521])"
      ]
     },
     "execution_count": 3,
     "metadata": {},
     "output_type": "execute_result"
    }
   ],
   "source": [
    "np.random.rand(10)"
   ]
  },
  {
   "cell_type": "code",
   "execution_count": 6,
   "metadata": {},
   "outputs": [
    {
     "data": {
      "text/plain": [
       "array([41, 84, 46, 72, 21, 86, 22, 65, 97, 56, 15, 94, 33, 83, 83, 37, 70,\n",
       "       93, 56, 52, 82, 39, 13, 82, 25, 24, 78, 29, 23, 46, 24, 58, 75, 91,\n",
       "       60, 31, 54, 90, 15, 18, 26, 57, 87, 99, 84, 88, 89, 40, 38, 59])"
      ]
     },
     "execution_count": 6,
     "metadata": {},
     "output_type": "execute_result"
    }
   ],
   "source": [
    "np.random.randint(10, 100, 50)"
   ]
  },
  {
   "cell_type": "code",
   "execution_count": 8,
   "metadata": {},
   "outputs": [
    {
     "data": {
      "text/plain": [
       "array([[56, 78, 76, 83, 67],\n",
       "       [74, 84, 79, 34, 83],\n",
       "       [88, 32, 85, 74, 69],\n",
       "       [88, 32, 30, 12, 88],\n",
       "       [59, 77, 50, 52, 24]])"
      ]
     },
     "execution_count": 8,
     "metadata": {},
     "output_type": "execute_result"
    }
   ],
   "source": [
    "np.random.randint(10, 100, (5,5))"
   ]
  },
  {
   "cell_type": "markdown",
   "metadata": {},
   "source": [
    "### 10. Numeros aleatorios con semilla\n",
    "\n",
    "_np.random.seed(42)_\n",
    "\n",
    "_print(np.random.rand(4))_"
   ]
  },
  {
   "cell_type": "code",
   "execution_count": 9,
   "metadata": {},
   "outputs": [],
   "source": [
    "np.random.seed(42)"
   ]
  }
 ],
 "metadata": {
  "kernelspec": {
   "display_name": "Python 3",
   "language": "python",
   "name": "python3"
  },
  "language_info": {
   "codemirror_mode": {
    "name": "ipython",
    "version": 3
   },
   "file_extension": ".py",
   "mimetype": "text/x-python",
   "name": "python",
   "nbconvert_exporter": "python",
   "pygments_lexer": "ipython3",
   "version": "3.10.13"
  }
 },
 "nbformat": 4,
 "nbformat_minor": 2
}
